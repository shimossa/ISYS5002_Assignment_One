{
  "nbformat": 4,
  "nbformat_minor": 0,
  "metadata": {
    "colab": {
      "name": "Sandbox_Practice Assignment_.ipynb",
      "provenance": [],
      "collapsed_sections": [],
      "authorship_tag": "ABX9TyP1/M64zT3q2y3OsqOxbQ10",
      "include_colab_link": true
    },
    "kernelspec": {
      "name": "python3",
      "display_name": "Python 3"
    },
    "language_info": {
      "name": "python"
    }
  },
  "cells": [
    {
      "cell_type": "markdown",
      "metadata": {
        "id": "view-in-github",
        "colab_type": "text"
      },
      "source": [
        "<a href=\"https://colab.research.google.com/github/shimossa/ISYS5002_Assignment_One/blob/main/Sandbox_Practice_Assignment_.ipynb\" target=\"_parent\"><img src=\"https://colab.research.google.com/assets/colab-badge.svg\" alt=\"Open In Colab\"/></a>"
      ]
    },
    {
      "cell_type": "markdown",
      "metadata": {
        "id": "tRQ8BemCqIEB"
      },
      "source": [
        "# **Assignment Ideas**\n",
        "\n",
        "1. State the problem clearly\n",
        "2. Describe the input and output information\n",
        "3. Work the problem by hand\n",
        "4. Develop and algorithm \n",
        "5. Test slution with a variety of data\n",
        "\n",
        "Program, Inputs, Processing and Outputs\n",
        "\n",
        "# Inputs\n",
        "\n",
        "*Input is a ticker symbol?\n",
        "Note: To prompt the user, I guess I will need to use the input function \n",
        "\n",
        "**Find out what a is a ticker symbol is** \n",
        "A stock symbol is a unique series of letters assigned to a security for trading purposes. Stocks listed on the New York Stock Exchange (NYSE) can have four or fewer letters.\n",
        "https://www.investopedia.com/terms/s/stocksymbol.asp\n",
        "\n",
        "\n",
        "# Processing thoughts \n",
        "\n",
        "*scrape the yahoo website\n",
        "*extract the 'key executives'\n",
        "*Calculate the income tax\n",
        "\n",
        "**Find yahoo webstie**\n",
        "**Source the key executives**\n",
        "\n",
        "Here is the webpage in which data is to be retrieved \n",
        "https://au.finance.yahoo.com/\n",
        "\n",
        "Note: There is a search bar, will use to find a company\n",
        "\n",
        "#Outputs\n",
        "\n",
        "*Save to a CSV file\n",
        "*Save to an SQL database\n",
        "\n",
        "**Workout what I have to save**\n",
        "\n",
        "\n",
        "#Explore the website\n",
        "\n",
        "1. Search for Coles \n",
        "\n",
        "Best guess - TLS.AX is Telstra \n",
        "'.AX' indicates that the company is Australian\n",
        "\n",
        "Here is the URL for Telstra\n",
        "https://au.finance.yahoo.com/quote/TLS.AX/profile?p=TLS.AX\n",
        "\n",
        "2. Find NAB\n",
        "\n",
        "Here is the URL for NAB\n",
        "https://au.finance.yahoo.com/quote/NAB.AX/profile?p=NAB.AX\n",
        "\n",
        "The URL pattern is distinct, there are two places in which the ticker search appears.\n",
        "\n",
        "\n",
        "https://au.finance.yahoo.com/quote/____/profile?p=____\n",
        "\n",
        "\n",
        "Manual process is\n",
        "1. Search for the ticker\n",
        "2. Click on 'Profile'\n",
        "\n",
        "**TODO: Can this process be shortcutted and just use the URL**\n",
        "\n",
        "The URL can be edited to replace the ticker - only the first mention of the ticker is important, but to be safe both should be replaced."
      ]
    },
    {
      "cell_type": "markdown",
      "metadata": {
        "id": "-QA8Hbxxs_on"
      },
      "source": [
        "#Calculation of income tax\n",
        "\n",
        "```\n",
        "\n",
        "Name\tTitle\tPay\tExercised\tYear born\n",
        "Mr. Ross Maxwell McEwan CBE, B.B.S.\tGroup CEO, MD & Director\t2.54M\tN/A\t1957\n",
        "Mr. Gary Andrew Lennon BEC, F.C.A., BEc (Hons), FCA\tGroup Chief Financial Officer\t1.13M\tN/A\tN/A\n",
        "Mr. Patrick F. Wright\tGroup Exec. of Technology & Enterprise Operations\t1.72M\tN/A\t1967\n",
        "Ms. Sharon J. Cook\tGroup Exec. of Legal & Commercial Services\t912.98k\tN/A\tN/A\n",
        "Ms. Susan Ferrier\tGroup Exec. of People & Culture\t929.27k\tN/A\tN/A\n",
        "Ms. Angela Mentis B.Bus\tGroup Chief Digital, Data & Analytics Officer\t1.62M\tN/A\tN/A\n",
        "Mr. Shaun Dooley\tChief Risk Officer\t1.05M\tN/A\tN/A\n",
        "Mr. Andrew Irvine\tChief Exec. of Bus. Private Banking Division\t333.27k\tN/A\tN/A\n",
        "Mr. Lesile D. Matheson\tGroup Chief Operating Officer\tN/A\tN/A\t1960\n",
        "Ms. Sally Mihell\tHead of Investor Relations\tN/A\tN/A\tN/A\n",
        "\n",
        "```\n",
        "\n",
        "The first column is the executive's respective names\n",
        "The second is their title/ position in the organisation\n",
        "The third is their annual income/ pay\n",
        "\n",
        "**TO DO: How to do we extract the third column***\n",
        "\n",
        "**RESOLUTION** 18/10/2021\n",
        "  ```\n",
        "  pay = rec['Pay'] #Needs to be sourced from the previous function\n",
        "  last_char = pay[-1] # -1 retrieves the last character in the pay cell\n",
        "  num_part = pay[0:-1]\n",
        "\n",
        "\n",
        "```\n",
        "Only need the name, title and pay\n",
        "```\n",
        "Mr. Ross Maxwell McEwan CBE, B.B.S.\tGroup CEO, MD & Director\t2.54M\tN/A\t1957\n",
        "```\n",
        "\n",
        "Thrid column is pay; 2.54m\n",
        "\n",
        "M is assumedly \"Million\"; The pay being 2.5 * 1000000"
      ]
    },
    {
      "cell_type": "markdown",
      "metadata": {
        "id": "icqCcVHI3oKv"
      },
      "source": [
        "Inspect another row for feasibility \n",
        "```\n",
        "Ms. Sharon J. Cook\tGroup Exec. of Legal & Commercial Services\t912.98k\tN/A\tN/A\n",
        "```\n",
        "\n",
        "Noticed the pay is 912.8k\n",
        "K assumedly meaning thousand or 1000; therefore their pay is 912.8*1000"
      ]
    },
    {
      "cell_type": "markdown",
      "metadata": {
        "id": "ltRHZkKl32oq"
      },
      "source": [
        "#**Resolution for symbols indicating salary** 19/10/2021\n",
        "\n",
        "```\n",
        "  if last_char == 'M':\n",
        "    income = float(num_part) * 1000000  \n",
        "  elif last_char == 'k':\n",
        "    income = float(num_part) * 1000\n",
        "  else:\n",
        "    income = 0\n",
        "\n",
        "   return income\n",
        "```"
      ]
    },
    {
      "cell_type": "markdown",
      "metadata": {
        "id": "-o5J_DVdDEWk"
      },
      "source": [
        "**Input validation codes that were attempted but failed.**\n",
        "\n",
        "\n",
        "#Led to an indefinitely repeating error message\n",
        "```\n",
        "def get_rows(soup): \n",
        "  while True:\n",
        "    try:\n",
        "      table = soup.find('table')\n",
        "      # get to the row\n",
        "      body = table.find('tbody')\n",
        "      rows = body.find_all('tr')\n",
        "      records = []\n",
        "      for row in rows:\n",
        "        result = row_capture(row)\n",
        "        records.append(result)\n",
        "      return rows\n",
        "    except AttributeError:\n",
        "      print(\"Please enter a valid ticker identifier\")\n",
        "```\n",
        "\n",
        "#Led to a reinput, that caused a blank box\n",
        "```\n",
        "def get_rows(soup): \n",
        "  while True:\n",
        "    try:\n",
        "      table = soup.find('table')\n",
        "      # get to the row\n",
        "      body = table.find('tbody')\n",
        "      rows = body.find_all('tr')\n",
        "      records = []\n",
        "      for row in rows:\n",
        "        result = row_capture(row)\n",
        "        records.append(result)\n",
        "      return rows\n",
        "    except AttributeError:\n",
        "      print(\"Please enter a valid ticker identifier\")\n",
        "      return generate_url()\n",
        "```"
      ]
    },
    {
      "cell_type": "code",
      "metadata": {
        "id": "VyDi0iJWh8oU"
      },
      "source": [
        "!pip install kora -q\n",
        "\n",
        "from bs4 import BeautifulSoup\n",
        "from kora.selenium import wd\n",
        "import pandas as pd"
      ],
      "execution_count": 1,
      "outputs": []
    },
    {
      "cell_type": "code",
      "metadata": {
        "id": "DwERo5F7l_H9"
      },
      "source": [
        "def generate_url():\n",
        "  # User input ticker symbol\n",
        "  ticker = input(\"Please input ticker of the company you wish to search \")\n",
        "  \n",
        "  #The URL that will be generated based on the ticker that is entered\n",
        "  example_url = 'https://au.finance.yahoo.com/quote/{}/profile?p={}'\n",
        "  result = example_url.format(ticker, ticker)\n",
        "  return result"
      ],
      "execution_count": 2,
      "outputs": []
    },
    {
      "cell_type": "code",
      "metadata": {
        "id": "4qu1od_2tAcM"
      },
      "source": [
        " def row_capture(row):\n",
        "  #Specifies what in the HTML for the row to capture for the program \n",
        "  cells = row.find_all('td')\n",
        "  name = cells[0].text\n",
        "  title = cells[1].text\n",
        "  pay = cells[2].text\n",
        "  return {'Name': name, 'Title': title, 'Pay': pay}"
      ],
      "execution_count": 3,
      "outputs": []
    },
    {
      "cell_type": "code",
      "metadata": {
        "id": "I5t3TRZ7eISa"
      },
      "source": [
        " def get_rows(soup): \n",
        "  #specifies the table on the HTML\n",
        "  table = soup.find('table')\n",
        "  # get to the row\n",
        "  body = table.find('tbody')\n",
        "  rows = body.find_all('tr')\n",
        "  # attempted to add a input validation here however the code ran into errors when looping back \"AttributeError: 'NoneType' object has no attribute\" (see above)\n",
        "  return rows"
      ],
      "execution_count": 4,
      "outputs": []
    },
    {
      "cell_type": "code",
      "metadata": {
        "id": "7U0xqdgPilHF"
      },
      "source": [
        "def get_salary(pay):\n",
        "  #Captures the last character of the cell which is a symbol \n",
        "  pay = rec['Pay']\n",
        "  last_char = pay[-1]\n",
        "  num_part = pay[0:-1]\n",
        "  #Gives the symbols numerical value so that the tax may be calculated\n",
        "  if last_char == 'M':\n",
        "    inc = float(num_part) * 1000000\n",
        "  elif last_char == 'k':\n",
        "    inc = float(num_part) * 1000\n",
        "  else:\n",
        "    inc = 0\n",
        "  \n",
        "  return inc"
      ],
      "execution_count": 5,
      "outputs": []
    },
    {
      "cell_type": "code",
      "metadata": {
        "id": "0O0zbMtJGxj_"
      },
      "source": [
        "def calculate_tax(income):\n",
        "  if income <= 18200:\n",
        "    tax_payable = 0\n",
        "  elif 18200 < income <= 45000:\n",
        "    tax_payable = 0.19 * (income - 18200)\n",
        "  elif 45000 < income < 120000:\n",
        "    tax_payable = 5092 + 0.32 * (income - 45000)\n",
        "  elif 120001 < income < 180000:\n",
        "    tax_payable = 29467 + 0.37 * (income - 120000)\n",
        "  elif income > 180000:\n",
        "    tax_payable = 51667 + 0.45 * (income - 180000)\n",
        "  \n",
        "  return tax_payable"
      ],
      "execution_count": 6,
      "outputs": []
    },
    {
      "cell_type": "code",
      "metadata": {
        "colab": {
          "base_uri": "https://localhost:8080/",
          "height": 376
        },
        "id": "Wt7atuG_Nbsg",
        "outputId": "fe6928c2-7aaf-413f-d65f-e8079852d515"
      },
      "source": [
        "url = generate_url()\n",
        "wd.get(url)\n",
        "soup = BeautifulSoup(wd.page_source,'html.parser')\n",
        "rows = get_rows(soup)\n",
        "\n",
        "records = []\n",
        "for row in rows:\n",
        "  result = row_capture(row)\n",
        "  records.append(result)\n",
        "\n",
        "\n",
        "# attempted to add a tax column as it's own function however errors refering to \"rec\" not being defined permeated through the code\n",
        "for rec in records:\n",
        "  sal = get_salary(rec['Pay'])\n",
        "  rec['Tax'] = calculate_tax(sal)\n",
        "\n",
        "exec_df = pd.DataFrame.from_records(records)\n",
        "exec_df"
      ],
      "execution_count": 9,
      "outputs": [
        {
          "name": "stdout",
          "output_type": "stream",
          "text": [
            "Please input ticker of the company you wish to search tls.ax\n"
          ]
        },
        {
          "output_type": "execute_result",
          "data": {
            "text/html": [
              "<div>\n",
              "<style scoped>\n",
              "    .dataframe tbody tr th:only-of-type {\n",
              "        vertical-align: middle;\n",
              "    }\n",
              "\n",
              "    .dataframe tbody tr th {\n",
              "        vertical-align: top;\n",
              "    }\n",
              "\n",
              "    .dataframe thead th {\n",
              "        text-align: right;\n",
              "    }\n",
              "</style>\n",
              "<table border=\"1\" class=\"dataframe\">\n",
              "  <thead>\n",
              "    <tr style=\"text-align: right;\">\n",
              "      <th></th>\n",
              "      <th>Name</th>\n",
              "      <th>Title</th>\n",
              "      <th>Pay</th>\n",
              "      <th>Tax</th>\n",
              "    </tr>\n",
              "  </thead>\n",
              "  <tbody>\n",
              "    <tr>\n",
              "      <th>0</th>\n",
              "      <td>Mr. Andrew Richard Penn M.B.A., AMP, MBA, BEc,...</td>\n",
              "      <td>CEO, MD &amp; Director</td>\n",
              "      <td>3.78M</td>\n",
              "      <td>1671667.0</td>\n",
              "    </tr>\n",
              "    <tr>\n",
              "      <th>1</th>\n",
              "      <td>Ms. Vicki Maree Brady</td>\n",
              "      <td>CFO and Group Exec. of Strategy &amp; Fin.</td>\n",
              "      <td>1.8M</td>\n",
              "      <td>780667.0</td>\n",
              "    </tr>\n",
              "    <tr>\n",
              "      <th>2</th>\n",
              "      <td>Mr. Kim Krogh Andersen</td>\n",
              "      <td>Group Exec. of Product &amp; Technology</td>\n",
              "      <td>1.56M</td>\n",
              "      <td>672667.0</td>\n",
              "    </tr>\n",
              "    <tr>\n",
              "      <th>3</th>\n",
              "      <td>Ms. Alexandra  Badenoch</td>\n",
              "      <td>Group Exec. of Transformation, Communications ...</td>\n",
              "      <td>1.46M</td>\n",
              "      <td>627667.0</td>\n",
              "    </tr>\n",
              "    <tr>\n",
              "      <th>4</th>\n",
              "      <td>Mr. David  Burns</td>\n",
              "      <td>Group Exec. of Enterprise</td>\n",
              "      <td>1.73M</td>\n",
              "      <td>749167.0</td>\n",
              "    </tr>\n",
              "    <tr>\n",
              "      <th>5</th>\n",
              "      <td>Mr. Brendon  Riley BBus</td>\n",
              "      <td>Group Exec. &amp; CEO of Telstra InfraCo</td>\n",
              "      <td>2.22M</td>\n",
              "      <td>969667.0</td>\n",
              "    </tr>\n",
              "    <tr>\n",
              "      <th>6</th>\n",
              "      <td>Mr. Michael G. Ackland</td>\n",
              "      <td>Group Exec. of Consumer &amp; Small Bus.</td>\n",
              "      <td>1.72M</td>\n",
              "      <td>744667.0</td>\n",
              "    </tr>\n",
              "    <tr>\n",
              "      <th>7</th>\n",
              "      <td>Mr. Dean  Salter</td>\n",
              "      <td>Group Exec. of Global Bus. Services</td>\n",
              "      <td>1.1M</td>\n",
              "      <td>465667.0</td>\n",
              "    </tr>\n",
              "    <tr>\n",
              "      <th>8</th>\n",
              "      <td>Mr. HÃ¥kan  Eriksson</td>\n",
              "      <td>Chief Technology Officer</td>\n",
              "      <td>N/A</td>\n",
              "      <td>0.0</td>\n",
              "    </tr>\n",
              "    <tr>\n",
              "      <th>9</th>\n",
              "      <td>Mr. Nathan  Burley</td>\n",
              "      <td>Head of Investor Relations</td>\n",
              "      <td>N/A</td>\n",
              "      <td>0.0</td>\n",
              "    </tr>\n",
              "  </tbody>\n",
              "</table>\n",
              "</div>"
            ],
            "text/plain": [
              "                                                Name  ...        Tax\n",
              "0  Mr. Andrew Richard Penn M.B.A., AMP, MBA, BEc,...  ...  1671667.0\n",
              "1                              Ms. Vicki Maree Brady  ...   780667.0\n",
              "2                             Mr. Kim Krogh Andersen  ...   672667.0\n",
              "3                            Ms. Alexandra  Badenoch  ...   627667.0\n",
              "4                                   Mr. David  Burns  ...   749167.0\n",
              "5                            Mr. Brendon  Riley BBus  ...   969667.0\n",
              "6                             Mr. Michael G. Ackland  ...   744667.0\n",
              "7                                   Mr. Dean  Salter  ...   465667.0\n",
              "8                               Mr. HÃ¥kan  Eriksson  ...        0.0\n",
              "9                                 Mr. Nathan  Burley  ...        0.0\n",
              "\n",
              "[10 rows x 4 columns]"
            ]
          },
          "metadata": {},
          "execution_count": 9
        }
      ]
    },
    {
      "cell_type": "code",
      "metadata": {
        "colab": {
          "base_uri": "https://localhost:8080/"
        },
        "id": "XVgtYxZ_LjXj",
        "outputId": "a6a478f6-14f3-4afe-a12c-71a6fb36ca55"
      },
      "source": [
        "csv_save = input(\"Please name the csv file you could like to save: \")\n",
        "print(\"Success! Please find your file attached in the folder on the left!\")\n",
        "exec_df.to_csv(csv_save + '.csv', encoding ='utf-8', index=False)"
      ],
      "execution_count": 12,
      "outputs": [
        {
          "name": "stdout",
          "output_type": "stream",
          "text": [
            "Please name the csv file you could like to save: NAB data\n"
          ]
        }
      ]
    },
    {
      "cell_type": "code",
      "metadata": {
        "colab": {
          "base_uri": "https://localhost:8080/"
        },
        "id": "UcUhM6B_PyU0",
        "outputId": "ed4d1fa5-5466-45f9-a769-8bb5a7a61614"
      },
      "source": [
        "import csv\n",
        "\n",
        "openFile = open('NAB data.csv', 'r')\n",
        "csvFile = csv.reader(openFile)\n",
        "header = next(csvFile)\n",
        "headers = map((lambda x: '`'+x+'`'), header)\n",
        "insert = 'INSERT INTO Table (' + \", \".join(headers) + \") VALUES \"\n",
        "for row in csvFile:\n",
        "    values = map((lambda x: '\"'+x+'\"'), row)\n",
        "    print (insert +\"(\"+ \", \".join(values) +\");\" )\n",
        "openFile.close()"
      ],
      "execution_count": 11,
      "outputs": [
        {
          "output_type": "stream",
          "name": "stdout",
          "text": [
            "INSERT INTO Table (`Name`, `Title`, `Pay`, `Tax`) VALUES (\"Mr. Ross Maxwell McEwan CBE, B.B.S.\", \"Group CEO, MD & Director\", \"2.54M\", \"1113667.0\");\n",
            "INSERT INTO Table (`Name`, `Title`, `Pay`, `Tax`) VALUES (\"Mr. Gary Andrew Lennon BEC, F.C.A., BEc (Hons), FCA\", \"Group Chief Financial Officer\", \"1.13M\", \"479167.0\");\n",
            "INSERT INTO Table (`Name`, `Title`, `Pay`, `Tax`) VALUES (\"Mr. Patrick F. Wright\", \"Group Exec. of Technology & Enterprise Operations\", \"1.72M\", \"744667.0\");\n",
            "INSERT INTO Table (`Name`, `Title`, `Pay`, `Tax`) VALUES (\"Ms. Sharon J. Cook\", \"Group Exec. of Legal & Commercial Services\", \"912.98k\", \"381508.0\");\n",
            "INSERT INTO Table (`Name`, `Title`, `Pay`, `Tax`) VALUES (\"Ms. Susan  Ferrier\", \"Group Exec. of People & Culture\", \"929.27k\", \"388838.5\");\n",
            "INSERT INTO Table (`Name`, `Title`, `Pay`, `Tax`) VALUES (\"Ms. Angela  Mentis B.Bus\", \"Group Chief Digital, Data & Analytics Officer\", \"1.62M\", \"699667.0\");\n",
            "INSERT INTO Table (`Name`, `Title`, `Pay`, `Tax`) VALUES (\"Mr. Shaun  Dooley\", \"Chief Risk Officer\", \"1.05M\", \"443167.0\");\n",
            "INSERT INTO Table (`Name`, `Title`, `Pay`, `Tax`) VALUES (\"Mr. Andrew  Irvine\", \"Chief Exec. of Bus. Private Banking Division\", \"333.27k\", \"120638.5\");\n",
            "INSERT INTO Table (`Name`, `Title`, `Pay`, `Tax`) VALUES (\"Mr. Lesile D. Matheson\", \"Group Chief Operating Officer\", \"N/A\", \"0.0\");\n",
            "INSERT INTO Table (`Name`, `Title`, `Pay`, `Tax`) VALUES (\"Ms. Sally  Mihell\", \"Head of Investor Relations\", \"N/A\", \"0.0\");\n"
          ]
        }
      ]
    }
  ]
}