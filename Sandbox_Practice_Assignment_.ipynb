{
  "nbformat": 4,
  "nbformat_minor": 0,
  "metadata": {
    "colab": {
      "name": "Sandbox_Practice_Assignment .ipynb",
      "provenance": [],
      "authorship_tag": "ABX9TyMPWtDJ2jOh9RIk8Ug71Lkl",
      "include_colab_link": true
    },
    "kernelspec": {
      "name": "python3",
      "display_name": "Python 3"
    },
    "language_info": {
      "name": "python"
    }
  },
  "cells": [
    {
      "cell_type": "markdown",
      "metadata": {
        "id": "view-in-github",
        "colab_type": "text"
      },
      "source": [
        "<a href=\"https://colab.research.google.com/github/shimossa/ISYS5002_Assignment_One/blob/main/Sandbox_Practice_Assignment_.ipynb\" target=\"_parent\"><img src=\"https://colab.research.google.com/assets/colab-badge.svg\" alt=\"Open In Colab\"/></a>"
      ]
    },
    {
      "cell_type": "markdown",
      "metadata": {
        "id": "4AGyCdkKC5Oa"
      },
      "source": [
        "**Assignment Ideas**\n",
        "\n",
        "1. State the problem clearly\n",
        "2. Describe the input and output information\n",
        "3. Work the problem by hand\n",
        "4. Develop and algorithm \n",
        "5. Test slution with a variety of data\n",
        "\n",
        "Program, Inputs, Processing and Outputs\n",
        "\n",
        "# Inputs\n",
        "\n",
        "*Input is a ticker symbol?\n",
        "\n",
        "Note: To prompt the user, I guess I will need to use the input function \n",
        "\n",
        "**Find out what a is a ticker symbol is** \n",
        "\n",
        "# Processing thoughts \n",
        "\n",
        "*scrape the yahoo website\n",
        "*extract the 'key executives'\n",
        "\n",
        "**Find yahoo webstie**\n",
        "**Find the key executives**\n",
        "\n",
        "#Outputs\n",
        "\n",
        "*Save to a CSV file\n",
        "\n",
        "*Safe to an SQL database\n",
        "\n",
        "**Workout what I have to save**\n"
      ]
    },
    {
      "cell_type": "code",
      "metadata": {
        "id": "NA88WOWaDSm_"
      },
      "source": [
        ""
      ],
      "execution_count": null,
      "outputs": []
    }
  ]
}