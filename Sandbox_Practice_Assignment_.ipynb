{
  "nbformat": 4,
  "nbformat_minor": 0,
  "metadata": {
    "colab": {
      "name": "Sandbox_Practice Assignment_.ipynb",
      "provenance": [],
      "collapsed_sections": [],
      "authorship_tag": "ABX9TyP/d29pG3mj/ZJErtLoFZQm",
      "include_colab_link": true
    },
    "kernelspec": {
      "name": "python3",
      "display_name": "Python 3"
    },
    "language_info": {
      "name": "python"
    }
  },
  "cells": [
    {
      "cell_type": "markdown",
      "metadata": {
        "id": "view-in-github",
        "colab_type": "text"
      },
      "source": [
        "<a href=\"https://colab.research.google.com/github/shimossa/ISYS5002_Assignment_One/blob/main/Sandbox_Practice_Assignment_.ipynb\" target=\"_parent\"><img src=\"https://colab.research.google.com/assets/colab-badge.svg\" alt=\"Open In Colab\"/></a>"
      ]
    },
    {
      "cell_type": "markdown",
      "metadata": {
        "id": "tRQ8BemCqIEB"
      },
      "source": [
        "# **Assignment Ideas**\n",
        "\n",
        "1. State the problem clearly\n",
        "2. Describe the input and output information\n",
        "3. Work the problem by hand\n",
        "4. Develop and algorithm \n",
        "5. Test slution with a variety of data\n",
        "\n",
        "Program, Inputs, Processing and Outputs\n",
        "\n",
        "# Inputs\n",
        "\n",
        "*Input is a ticker symbol?\n",
        "Note: To prompt the user, I guess I will need to use the input function \n",
        "\n",
        "**Find out what a is a ticker symbol is** \n",
        "A stock symbol is a unique series of letters assigned to a security for trading purposes. Stocks listed on the New York Stock Exchange (NYSE) can have four or fewer letters.\n",
        "https://www.investopedia.com/terms/s/stocksymbol.asp\n",
        "\n",
        "\n",
        "# Processing thoughts \n",
        "\n",
        "*scrape the yahoo website\n",
        "*extract the 'key executives'\n",
        "*Calculate the income tax\n",
        "\n",
        "**Find yahoo webstie**\n",
        "**Source the key executives**\n",
        "\n",
        "Here is the webpage in which data is to be retrieved \n",
        "https://au.finance.yahoo.com/\n",
        "\n",
        "Note: There is a search bar, will use to find a company\n",
        "\n",
        "#Outputs\n",
        "\n",
        "*Save to a CSV file\n",
        "*Save to an SQL database\n",
        "\n",
        "**Workout what I have to save**\n",
        "\n",
        "\n",
        "#Explore the website\n",
        "\n",
        "1. Search for Coles \n",
        "\n",
        "Best guess - TLS.AX is Telstra \n",
        "'.AX' indicates that the company is Australian\n",
        "\n",
        "Here is the URL for Telstra\n",
        "https://au.finance.yahoo.com/quote/TLS.AX/profile?p=TLS.AX\n",
        "\n",
        "2. Find NAB\n",
        "\n",
        "Here is the URL for NAB\n",
        "https://au.finance.yahoo.com/quote/NAB.AX/profile?p=NAB.AX\n",
        "\n",
        "The URL pattern is distinct, there are two places in which the ticker search appears.\n",
        "\n",
        "\n",
        "https://au.finance.yahoo.com/quote/____/profile?p=____\n",
        "\n",
        "\n",
        "Manual process is\n",
        "1. Search for the ticker\n",
        "2. Click on 'Profile'\n",
        "\n",
        "**TODO: Can this process be shortcutted and just use the URL**\n",
        "\n",
        "The URL can be edited to replace the ticker - only the first mention of the ticker is important, but to be safe both should be replaced."
      ]
    },
    {
      "cell_type": "markdown",
      "metadata": {
        "id": "-QA8Hbxxs_on"
      },
      "source": [
        "#Calculation of income tax\n",
        "\n",
        "```\n",
        "\n",
        "Name\tTitle\tPay\tExercised\tYear born\n",
        "Mr. Ross Maxwell McEwan CBE, B.B.S.\tGroup CEO, MD & Director\t2.54M\tN/A\t1957\n",
        "Mr. Gary Andrew Lennon BEC, F.C.A., BEc (Hons), FCA\tGroup Chief Financial Officer\t1.13M\tN/A\tN/A\n",
        "Mr. Patrick F. Wright\tGroup Exec. of Technology & Enterprise Operations\t1.72M\tN/A\t1967\n",
        "Ms. Sharon J. Cook\tGroup Exec. of Legal & Commercial Services\t912.98k\tN/A\tN/A\n",
        "Ms. Susan Ferrier\tGroup Exec. of People & Culture\t929.27k\tN/A\tN/A\n",
        "Ms. Angela Mentis B.Bus\tGroup Chief Digital, Data & Analytics Officer\t1.62M\tN/A\tN/A\n",
        "Mr. Shaun Dooley\tChief Risk Officer\t1.05M\tN/A\tN/A\n",
        "Mr. Andrew Irvine\tChief Exec. of Bus. Private Banking Division\t333.27k\tN/A\tN/A\n",
        "Mr. Lesile D. Matheson\tGroup Chief Operating Officer\tN/A\tN/A\t1960\n",
        "Ms. Sally Mihell\tHead of Investor Relations\tN/A\tN/A\tN/A\n",
        "\n",
        "```\n",
        "\n",
        "The first column is the executive's respective names\n",
        "The second is their title/ position in the organisation\n",
        "The third is their annual income/ pay\n",
        "\n",
        "**TO DO: How to do we extract the third column***\n",
        "\n",
        "**RESOLUTION** 18/10/2021\n",
        "  ```\n",
        "  pay = rec['Pay'] #Needs to be sourced from the previous function\n",
        "  last_char = pay[-1] # -1 retrieves the last character in the pay cell\n",
        "  num_part = pay[0:-1]\n",
        "\n",
        "\n",
        "```\n",
        "Only need the name, title and pay\n",
        "```\n",
        "Mr. Ross Maxwell McEwan CBE, B.B.S.\tGroup CEO, MD & Director\t2.54M\tN/A\t1957\n",
        "```\n",
        "\n",
        "Thrid column is pay; 2.54m\n",
        "\n",
        "M is assumedly \"Million\"; The pay being 2.5 * 1000000"
      ]
    },
    {
      "cell_type": "markdown",
      "metadata": {
        "id": "icqCcVHI3oKv"
      },
      "source": [
        "Inspect another row for feasibility \n",
        "```\n",
        "Ms. Sharon J. Cook\tGroup Exec. of Legal & Commercial Services\t912.98k\tN/A\tN/A\n",
        "```\n",
        "\n",
        "Noticed the pay is 912.8k\n",
        "K assumedly meaning thousand or 1000; therefore their pay is 912.8*1000"
      ]
    },
    {
      "cell_type": "markdown",
      "metadata": {
        "id": "ltRHZkKl32oq"
      },
      "source": [
        "#**Resolution for symbols indicating salary** 19/10/2021\n",
        "\n",
        "```\n",
        "  if last_char == 'M':\n",
        "    income = float(num_part) * 1000000  \n",
        "  elif last_char == 'k':\n",
        "    income = float(num_part) * 1000\n",
        "  else:\n",
        "    income = 0\n",
        "\n",
        "   return income\n",
        "```"
      ]
    },
    {
      "cell_type": "markdown",
      "metadata": {
        "id": "-o5J_DVdDEWk"
      },
      "source": [
        "**Input validation codes that were attempted but failed.**\n",
        "\n",
        "\n",
        "#Led to an indefinitely repeating error message\n",
        "```\n",
        "def get_rows(soup): \n",
        "  while True:\n",
        "    try:\n",
        "      table = soup.find('table')\n",
        "      # get to the row\n",
        "      body = table.find('tbody')\n",
        "      rows = body.find_all('tr')\n",
        "      records = []\n",
        "      for row in rows:\n",
        "        result = row_capture(row)\n",
        "        records.append(result)\n",
        "      return rows\n",
        "    except AttributeError:\n",
        "      print(\"Please enter a valid ticker identifier\")\n",
        "```\n",
        "\n",
        "#Led to a reinput, that caused a blank box\n",
        "```\n",
        "def get_rows(soup): \n",
        "  while True:\n",
        "    try:\n",
        "      table = soup.find('table')\n",
        "      # get to the row\n",
        "      body = table.find('tbody')\n",
        "      rows = body.find_all('tr')\n",
        "      records = []\n",
        "      for row in rows:\n",
        "        result = row_capture(row)\n",
        "        records.append(result)\n",
        "      return rows\n",
        "    except AttributeError:\n",
        "      print(\"Please enter a valid ticker identifier\")\n",
        "      return generate_url()\n",
        "```"
      ]
    },
    {
      "cell_type": "code",
      "metadata": {
        "id": "VyDi0iJWh8oU"
      },
      "source": [
        "!pip install kora -q\n",
        "\n",
        "from bs4 import BeautifulSoup\n",
        "from kora.selenium import wd\n",
        "import pandas as pd"
      ],
      "execution_count": 11,
      "outputs": []
    },
    {
      "cell_type": "code",
      "metadata": {
        "id": "DwERo5F7l_H9"
      },
      "source": [
        "def generate_url():\n",
        "  # User input ticker symbol\n",
        "  ticker = input(\"Please input ticker of the company you wish to search \")\n",
        "  \n",
        "  #The URL that will be generated based on the ticker that is entered\n",
        "  example_url = 'https://au.finance.yahoo.com/quote/{}/profile?p={}'\n",
        "  result = example_url.format(ticker, ticker)\n",
        "  return result"
      ],
      "execution_count": 12,
      "outputs": []
    },
    {
      "cell_type": "code",
      "metadata": {
        "id": "4qu1od_2tAcM"
      },
      "source": [
        " def row_capture(row):\n",
        "  #Specifies what in the HTML for the row to capture for the program \n",
        "  cells = row.find_all('td')\n",
        "  name = cells[0].text\n",
        "  title = cells[1].text\n",
        "  pay = cells[2].text\n",
        "  return {'Name': name, 'Title': title, 'Pay': pay}"
      ],
      "execution_count": 13,
      "outputs": []
    },
    {
      "cell_type": "code",
      "metadata": {
        "id": "I5t3TRZ7eISa"
      },
      "source": [
        " def get_rows(soup): \n",
        "  #specifies the table on the HTML\n",
        "  table = soup.find('table')\n",
        "  # get to the row\n",
        "  body = table.find('tbody')\n",
        "  rows = body.find_all('tr')\n",
        "  # attempted to add a input validation here however the code ran into errors when looping back \"AttributeError: 'NoneType' object has no attribute\" (see above)\n",
        "  records = []\n",
        "  for row in rows:\n",
        "    result = row_capture(row)\n",
        "    records.append(result)\n",
        "  return rows"
      ],
      "execution_count": 22,
      "outputs": []
    },
    {
      "cell_type": "code",
      "metadata": {
        "id": "7U0xqdgPilHF"
      },
      "source": [
        "def get_salary(pay):\n",
        "  #Captures the last character of the cell which is a symbol \n",
        "  pay = rec['Pay']\n",
        "  last_char = pay[-1]\n",
        "  num_part = pay[0:-1]\n",
        "  #Gives the symbols numerical value so that the tax may be calculated\n",
        "  if last_char == 'M':\n",
        "    inc = float(num_part) * 1000000\n",
        "  elif last_char == 'k':\n",
        "    inc = float(num_part) * 1000\n",
        "  else:\n",
        "    inc = 0\n",
        "  \n",
        "  return inc"
      ],
      "execution_count": 16,
      "outputs": []
    },
    {
      "cell_type": "code",
      "metadata": {
        "id": "0O0zbMtJGxj_"
      },
      "source": [
        "def calculate_tax(income):\n",
        "  if income <= 18200:\n",
        "    tax_payable = 0\n",
        "  elif 18200 < income <= 45000:\n",
        "    tax_payable = 0.19 * (income - 18200)\n",
        "  elif 45000 < income < 120000:\n",
        "    tax_payable = 5092 + 0.32 * (income - 45000)\n",
        "  elif 120001 < income < 180000:\n",
        "    tax_payable = 29467 + 0.37 * (income - 120000)\n",
        "  elif income > 180000:\n",
        "    tax_payable = 51667 + 0.45 * (income - 180000)\n",
        "  \n",
        "  return tax_payable"
      ],
      "execution_count": 27,
      "outputs": []
    },
    {
      "cell_type": "code",
      "metadata": {
        "colab": {
          "base_uri": "https://localhost:8080/",
          "height": 376
        },
        "id": "Wt7atuG_Nbsg",
        "outputId": "c30c5919-3492-4edb-fd19-8b8f72a9b078"
      },
      "source": [
        "url = generate_url()\n",
        "wd.get(url)\n",
        "soup = BeautifulSoup(wd.page_source,'html.parser')\n",
        "rows = get_rows(soup)\n",
        "\n",
        "# attempted to add a tax column as it's own function however errors refering to \"rec\" not being defined permeated through the code\n",
        "for rec in records:\n",
        "  sal = get_salary(rec['Pay'])\n",
        "  rec['Tax'] = calculate_tax(sal)\n",
        "\n",
        "exec_df = pd.DataFrame.from_records(records)\n",
        "exec_df"
      ],
      "execution_count": 28,
      "outputs": [
        {
          "name": "stdout",
          "output_type": "stream",
          "text": [
            "Please input ticker of the company you wish to search TLS.AX\n"
          ]
        },
        {
          "output_type": "execute_result",
          "data": {
            "text/html": [
              "<div>\n",
              "<style scoped>\n",
              "    .dataframe tbody tr th:only-of-type {\n",
              "        vertical-align: middle;\n",
              "    }\n",
              "\n",
              "    .dataframe tbody tr th {\n",
              "        vertical-align: top;\n",
              "    }\n",
              "\n",
              "    .dataframe thead th {\n",
              "        text-align: right;\n",
              "    }\n",
              "</style>\n",
              "<table border=\"1\" class=\"dataframe\">\n",
              "  <thead>\n",
              "    <tr style=\"text-align: right;\">\n",
              "      <th></th>\n",
              "      <th>Name</th>\n",
              "      <th>Title</th>\n",
              "      <th>Pay</th>\n",
              "      <th>Tax</th>\n",
              "      <th>Tax Payable</th>\n",
              "    </tr>\n",
              "  </thead>\n",
              "  <tbody>\n",
              "    <tr>\n",
              "      <th>0</th>\n",
              "      <td>Mr. Ross Maxwell McEwan CBE, B.B.S.</td>\n",
              "      <td>Group CEO, MD &amp; Director</td>\n",
              "      <td>2.54M</td>\n",
              "      <td>1113667.0</td>\n",
              "      <td>1113667.0</td>\n",
              "    </tr>\n",
              "    <tr>\n",
              "      <th>1</th>\n",
              "      <td>Mr. Gary Andrew Lennon BEC, F.C.A., BEc (Hons)...</td>\n",
              "      <td>Group Chief Financial Officer</td>\n",
              "      <td>1.13M</td>\n",
              "      <td>479167.0</td>\n",
              "      <td>479167.0</td>\n",
              "    </tr>\n",
              "    <tr>\n",
              "      <th>2</th>\n",
              "      <td>Mr. Patrick F. Wright</td>\n",
              "      <td>Group Exec. of Technology &amp; Enterprise Operations</td>\n",
              "      <td>1.72M</td>\n",
              "      <td>744667.0</td>\n",
              "      <td>744667.0</td>\n",
              "    </tr>\n",
              "    <tr>\n",
              "      <th>3</th>\n",
              "      <td>Ms. Sharon J. Cook</td>\n",
              "      <td>Group Exec. of Legal &amp; Commercial Services</td>\n",
              "      <td>912.98k</td>\n",
              "      <td>381508.0</td>\n",
              "      <td>381508.0</td>\n",
              "    </tr>\n",
              "    <tr>\n",
              "      <th>4</th>\n",
              "      <td>Ms. Susan  Ferrier</td>\n",
              "      <td>Group Exec. of People &amp; Culture</td>\n",
              "      <td>929.27k</td>\n",
              "      <td>388838.5</td>\n",
              "      <td>388838.5</td>\n",
              "    </tr>\n",
              "    <tr>\n",
              "      <th>5</th>\n",
              "      <td>Ms. Angela  Mentis B.Bus</td>\n",
              "      <td>Group Chief Digital, Data &amp; Analytics Officer</td>\n",
              "      <td>1.62M</td>\n",
              "      <td>699667.0</td>\n",
              "      <td>699667.0</td>\n",
              "    </tr>\n",
              "    <tr>\n",
              "      <th>6</th>\n",
              "      <td>Mr. Shaun  Dooley</td>\n",
              "      <td>Chief Risk Officer</td>\n",
              "      <td>1.05M</td>\n",
              "      <td>443167.0</td>\n",
              "      <td>443167.0</td>\n",
              "    </tr>\n",
              "    <tr>\n",
              "      <th>7</th>\n",
              "      <td>Mr. Andrew  Irvine</td>\n",
              "      <td>Chief Exec. of Bus. Private Banking Division</td>\n",
              "      <td>333.27k</td>\n",
              "      <td>120638.5</td>\n",
              "      <td>120638.5</td>\n",
              "    </tr>\n",
              "    <tr>\n",
              "      <th>8</th>\n",
              "      <td>Mr. Lesile D. Matheson</td>\n",
              "      <td>Group Chief Operating Officer</td>\n",
              "      <td>N/A</td>\n",
              "      <td>0.0</td>\n",
              "      <td>0.0</td>\n",
              "    </tr>\n",
              "    <tr>\n",
              "      <th>9</th>\n",
              "      <td>Ms. Sally  Mihell</td>\n",
              "      <td>Head of Investor Relations</td>\n",
              "      <td>N/A</td>\n",
              "      <td>0.0</td>\n",
              "      <td>0.0</td>\n",
              "    </tr>\n",
              "  </tbody>\n",
              "</table>\n",
              "</div>"
            ],
            "text/plain": [
              "                                                Name  ... Tax Payable\n",
              "0                Mr. Ross Maxwell McEwan CBE, B.B.S.  ...   1113667.0\n",
              "1  Mr. Gary Andrew Lennon BEC, F.C.A., BEc (Hons)...  ...    479167.0\n",
              "2                              Mr. Patrick F. Wright  ...    744667.0\n",
              "3                                 Ms. Sharon J. Cook  ...    381508.0\n",
              "4                                 Ms. Susan  Ferrier  ...    388838.5\n",
              "5                           Ms. Angela  Mentis B.Bus  ...    699667.0\n",
              "6                                  Mr. Shaun  Dooley  ...    443167.0\n",
              "7                                 Mr. Andrew  Irvine  ...    120638.5\n",
              "8                             Mr. Lesile D. Matheson  ...         0.0\n",
              "9                                  Ms. Sally  Mihell  ...         0.0\n",
              "\n",
              "[10 rows x 5 columns]"
            ]
          },
          "metadata": {},
          "execution_count": 28
        }
      ]
    }
  ]
}