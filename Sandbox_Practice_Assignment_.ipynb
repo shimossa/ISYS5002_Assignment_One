{
  "nbformat": 4,
  "nbformat_minor": 0,
  "metadata": {
    "colab": {
      "name": "Sandbox_Practice_Assignment .ipynb",
      "provenance": [],
      "authorship_tag": "ABX9TyO7ZzMOEKZjO9mUWAp0rSju",
      "include_colab_link": true
    },
    "kernelspec": {
      "name": "python3",
      "display_name": "Python 3"
    },
    "language_info": {
      "name": "python"
    }
  },
  "cells": [
    {
      "cell_type": "markdown",
      "metadata": {
        "id": "view-in-github",
        "colab_type": "text"
      },
      "source": [
        "<a href=\"https://colab.research.google.com/github/shimossa/ISYS5002_Assignment_One/blob/main/Sandbox_Practice_Assignment_.ipynb\" target=\"_parent\"><img src=\"https://colab.research.google.com/assets/colab-badge.svg\" alt=\"Open In Colab\"/></a>"
      ]
    },
    {
      "cell_type": "markdown",
      "metadata": {
        "id": "4AGyCdkKC5Oa"
      },
      "source": [
        "#**Assignment Ideas**\n",
        "\n",
        "1. State the problem clearly\n",
        "2. Describe the input and output information\n",
        "3. Work the problem by hand\n",
        "4. Develop and algorithm \n",
        "5. Test slution with a variety of data\n",
        "\n",
        "Program, Inputs, Processing and Outputs\n",
        "\n",
        "# Inputs\n",
        "\n",
        "*Input is a ticker symbol?\n",
        "Note: To prompt the user, I guess I will need to use the input function \n",
        "\n",
        "**Find out what a is a ticker symbol is** \n",
        "A stock symbol is a unique series of letters assigned to a security for trading purposes. Stocks listed on the New York Stock Exchange (NYSE) can have four or fewer letters.\n",
        "https://www.investopedia.com/terms/s/stocksymbol.asp\n",
        "\n",
        "\n",
        "# Processing thoughts \n",
        "\n",
        "*scrape the yahoo website\n",
        "*extract the 'key executives'\n",
        "*Calculate the income tax\n",
        "\n",
        "**Find yahoo webstie**\n",
        "**Find the key executives**\n",
        "\n",
        "Here is the webpage in which data is to be retrieved \n",
        "https://au.finance.yahoo.com/\n",
        "\n",
        "Note: There is a search bar, will use to find a company\n",
        "\n",
        "#Outputs\n",
        "\n",
        "*Save to a CSV file\n",
        "*Save to an SQL database\n",
        "\n",
        "**Workout what I have to save**\n",
        "\n",
        "\n",
        "#Explore the website\n",
        "\n",
        "1. Search for Coles \n",
        "\n",
        "Best guess - COL.AX is Coles \n",
        "'.AX' means the company is Australian\n",
        "\n",
        "Here is the URL for Coles\n",
        "https://au.finance.yahoo.com/quote/COL.AX/profile?p=COL.AX\n",
        "\n",
        "2. Find NAB\n",
        "\n",
        "Here is the URL for NAB\n",
        "https://au.finance.yahoo.com/quote/NAB.AX/profile?p=NAB.AX\n",
        "\n",
        "There appears to be a URL pattern - the ticker is used twice in the URL.\n",
        "\n",
        "\n",
        "https://au.finance.yahoo.com/quote/____/profile?p=____\n",
        "\n",
        "\n",
        "Manual process is\n",
        "1. Search for the ticker\n",
        "2. Click on 'Profile'\n",
        "\n",
        "**TODO: Can this process be shortcutted and just use the URL**\n",
        "\n",
        "The URL can be edited to replace the ticker - only the first mention of the ticker is important, but to be safe both should be replaced."
      ]
    },
    {
      "cell_type": "markdown",
      "metadata": {
        "id": "cBQHZ7KVJQZV"
      },
      "source": [
        "#Lets manually calculate the income tax\n",
        "\n",
        "```\n",
        "\n",
        "Name\tTitle\tPay\tExercised\tYear born\n",
        "Mr. Ross Maxwell McEwan CBE, B.B.S.\tGroup CEO, MD & Director\t2.54M\tN/A\t1957\n",
        "Mr. Gary Andrew Lennon BEC, F.C.A., BEc (Hons), FCA\tGroup Chief Financial Officer\t1.13M\tN/A\tN/A\n",
        "Mr. Patrick F. Wright\tGroup Exec. of Technology & Enterprise Operations\t1.72M\tN/A\t1967\n",
        "Ms. Sharon J. Cook\tGroup Exec. of Legal & Commercial Services\t912.98k\tN/A\tN/A\n",
        "Ms. Susan Ferrier\tGroup Exec. of People & Culture\t929.27k\tN/A\tN/A\n",
        "Ms. Angela Mentis B.Bus\tGroup Chief Digital, Data & Analytics Officer\t1.62M\tN/A\tN/A\n",
        "Mr. Shaun Dooley\tChief Risk Officer\t1.05M\tN/A\tN/A\n",
        "Mr. Andrew Irvine\tChief Exec. of Bus. Private Banking Division\t333.27k\tN/A\tN/A\n",
        "Mr. Lesile D. Matheson\tGroup Chief Operating Officer\tN/A\tN/A\t1960\n",
        "Ms. Sally Mihell\tHead of Investor Relations\tN/A\tN/A\tN/A\n",
        "\n",
        "```\n",
        "\n",
        "The first column is name\n",
        "The second is Their title in the organisation\n",
        "The third is their pay\n",
        "\n",
        "**TODO: How to do we extract the third column***\n",
        "\n",
        "\n",
        "Only need the name, title and pay\n",
        "```\n",
        "Mr. Ross Maxwell McEwan CBE, B.B.S.\tGroup CEO, MD & Director\t2.54M\tN/A\t1957\n",
        "```\n",
        "\n",
        "Thrid column is pay; 2.54m\n",
        "\n",
        "M is assumedly \"Million\"; The pay being 2.5 * 1000000\n",
        "\n"
      ]
    },
    {
      "cell_type": "code",
      "metadata": {
        "colab": {
          "base_uri": "https://localhost:8080/"
        },
        "id": "NA88WOWaDSm_",
        "outputId": "6e8d0c0f-c99b-4781-a813-c84371234d5c"
      },
      "source": [
        "2.5*1000000"
      ],
      "execution_count": 1,
      "outputs": [
        {
          "output_type": "execute_result",
          "data": {
            "text/plain": [
              "2500000.0"
            ]
          },
          "metadata": {},
          "execution_count": 1
        }
      ]
    },
    {
      "cell_type": "markdown",
      "metadata": {
        "id": "TwECySBaK963"
      },
      "source": [
        "Inspect another row for feasibility \n",
        "```\n",
        "Ms. Sharon J. Cook\tGroup Exec. of Legal & Commercial Services\t912.98k\tN/A\tN/A\n",
        "```\n",
        "\n",
        "Noticed the pay is 912.8k\n",
        "K assumedly meaning thousand or 1000; therefore their pay is 912.8*1000"
      ]
    },
    {
      "cell_type": "code",
      "metadata": {
        "colab": {
          "base_uri": "https://localhost:8080/"
        },
        "id": "_jAkE-agLaug",
        "outputId": "7c9bcc7b-6b01-4d0f-afaa-3929226ee330"
      },
      "source": [
        "912.8*1000"
      ],
      "execution_count": 3,
      "outputs": [
        {
          "output_type": "execute_result",
          "data": {
            "text/plain": [
              "912800.0"
            ]
          },
          "metadata": {},
          "execution_count": 3
        }
      ]
    },
    {
      "cell_type": "markdown",
      "metadata": {
        "id": "2lQGTkMwLnVu"
      },
      "source": [
        "Checking to see if any other rows are different \n",
        "\n",
        "```\n",
        "Mr. Lesile D. Matheson\tGroup Chief Operating Officer\tN/A\tN/A\t1960\n",
        "```\n",
        "\n",
        "What do I do about N/A\n",
        "\n",
        "```\n",
        "def calculate_tex(income):\n",
        "  if income <= 18200:\n",
        "    tax_payable = 0\n",
        "  elif 18200 < income <= 45000:\n",
        "    tax_payable = 0.19*(income - 18200)\n",
        "  elif 45000 < income < 120000:\n",
        "    tax_payabnle =  5092 + 0.32 * (income - 45000)\n",
        "\n",
        "  return tax_payable\n",
        "```"
      ]
    },
    {
      "cell_type": "markdown",
      "metadata": {
        "id": "Ml0GrEqaQ1J0"
      },
      "source": [
        "#Initial Algorithm \n",
        "\n",
        "1. User input ticker symbol\n",
        "2. Use ticker to get profile page \n",
        "3. Copied the table \n",
        "4. For each row of the table \n",
        "  - Process a row to extract pay\n",
        "  - Find the last character to determine multiplier \n",
        "  - Calculate salary, pay multiplier \n",
        "  - Calculate the income tax\n",
        "\n",
        "NOTE: \n",
        "  1. Need to validate the ticker but for now  Iwill assume the user type in a correct ricker \n",
        "  2. Still need to work out where I save the imcome tax to "
      ]
    },
    {
      "cell_type": "code",
      "metadata": {
        "colab": {
          "base_uri": "https://localhost:8080/"
        },
        "id": "oMplP2q0Lm9q",
        "outputId": "cc75caae-d391-4d92-f725-8333ac349fd7"
      },
      "source": [
        "#User input ticker symbol \n",
        "ticker_symbol = input(\"Please input ticker symbol \")\n",
        "print(ticker_symbol)"
      ],
      "execution_count": 4,
      "outputs": [
        {
          "output_type": "stream",
          "name": "stdout",
          "text": [
            "Please input ticker symbol ANB.AX\n",
            "ANB.AX\n"
          ]
        }
      ]
    },
    {
      "cell_type": "code",
      "metadata": {
        "colab": {
          "base_uri": "https://localhost:8080/",
          "height": 35
        },
        "id": "b0jAThtQLb35",
        "outputId": "846fc48c-0a27-45c1-e90f-d1eb25e10d61"
      },
      "source": [
        "#Use ticker to get profile page\n",
        "\n",
        "example_url = 'https://au.finance.yahoo.com/quote/{}/profile?p={}'\n",
        "example_url.format(ticker_symbol, ticker_symbol)"
      ],
      "execution_count": 8,
      "outputs": [
        {
          "output_type": "execute_result",
          "data": {
            "application/vnd.google.colaboratory.intrinsic+json": {
              "type": "string"
            },
            "text/plain": [
              "'https://au.finance.yahoo.com/quote/ANB.AX/profile?p=ANB.AX'"
            ]
          },
          "metadata": {},
          "execution_count": 8
        }
      ]
    },
    {
      "cell_type": "code",
      "metadata": {
        "id": "0GyF4ATQSJZE"
      },
      "source": [
        "def build_url():\n",
        "  #user inout ticker symbol\n",
        "  ticker_symbol = input(\"Please input ticker symbol: \")\n",
        "  print(ticker_symbol)\n",
        "  example_url = 'https:////au.finance.yahoo.com/quote/{}/profile?p={}'\n",
        "  result = example_url.format(ticker_symbol, ticker_symbol)\n",
        "  return result"
      ],
      "execution_count": 9,
      "outputs": []
    },
    {
      "cell_type": "code",
      "metadata": {
        "colab": {
          "base_uri": "https://localhost:8080/"
        },
        "id": "8KmrdCEkTPGt",
        "outputId": "fc1ca468-5fc0-4272-80db-9ec6852c4796"
      },
      "source": [
        "url = build_url()\n",
        "print(url)"
      ],
      "execution_count": 12,
      "outputs": [
        {
          "output_type": "stream",
          "name": "stdout",
          "text": [
            "Please input ticker symbol: COL.AX\n",
            "COL.AX\n",
            "https:////au.finance.yahoo.com/quote/COL.AX/profile?p=COL.AX\n"
          ]
        }
      ]
    },
    {
      "cell_type": "code",
      "metadata": {
        "id": "qucBVwV_TUdA"
      },
      "source": [
        "!pip install kora -q\n",
        "\n",
        "from bs4 import BeautifulSoup\n",
        "from kora.selenium import wd\n",
        "import pandas as pd\n"
      ],
      "execution_count": 1,
      "outputs": []
    },
    {
      "cell_type": "code",
      "metadata": {
        "colab": {
          "base_uri": "https://localhost:8080/"
        },
        "id": "rvnzkWQLT5t0",
        "outputId": "16dbb9be-13bb-4018-f75d-b829244d2e5b"
      },
      "source": [
        "#Get URL\n",
        "url = build_url()\n",
        "wd.get(url)\n",
        "soup = BeautifulSoup(wd.page_source, \"html.parser\")\n"
      ],
      "execution_count": 27,
      "outputs": [
        {
          "output_type": "stream",
          "name": "stdout",
          "text": [
            "Please input ticker symbol: COL.AX\n",
            "COL.AX\n"
          ]
        }
      ]
    },
    {
      "cell_type": "code",
      "metadata": {
        "colab": {
          "base_uri": "https://localhost:8080/"
        },
        "id": "7Fd0idvFU7Gx",
        "outputId": "377130b5-edf9-4066-c3cd-e2434f6831cd"
      },
      "source": [
        "table = soup.find('table')\n",
        "body = table.find('tbody')\n",
        "rows = body.find_all('tr')\n",
        "rows[0].text\n",
        "\n",
        "#For now just process the one row \n",
        "#Work out how to do all rows later\n",
        "row = rows[0]\n",
        "\n",
        "cells = row.find_all('td')\n",
        "name = cells[0].text\n",
        "title = cells[1].text\n",
        "pay = cells[2].text\n",
        "print(pay)"
      ],
      "execution_count": 33,
      "outputs": [
        {
          "output_type": "stream",
          "name": "stdout",
          "text": [
            "3.33M\n"
          ]
        }
      ]
    },
    {
      "cell_type": "code",
      "metadata": {
        "id": "xjCw4Ivya_vv"
      },
      "source": [
        "def build_url():\n",
        "  #user inout ticker symbol\n",
        "  ticker_symbol = input(\"Please input ticker symbol: \")\n",
        "  print(ticker_symbol)\n",
        "  example_url = 'https:////au.finance.yahoo.com/quote/{}/profile?p={}'\n",
        "  result = example_url.format(ticker_symbol, ticker_symbol)\n",
        "  return result"
      ],
      "execution_count": 23,
      "outputs": []
    },
    {
      "cell_type": "code",
      "metadata": {
        "id": "SOT1NmiPV0nh"
      },
      "source": [
        "def get_first_3_cells(row):\n",
        "  cells = row.find_all('td')\n",
        "  name = cells[0].text\n",
        "  title = cells[1].text\n",
        "  pay = cells[2].text\n",
        "  return {'name': name, 'title': title, 'pay': pay}\n",
        "  "
      ],
      "execution_count": 24,
      "outputs": []
    },
    {
      "cell_type": "code",
      "metadata": {
        "id": "8L3iM9p5ZD7K"
      },
      "source": [
        "def get_exec_records():\n",
        "  table = soup.find('table')\n",
        "  body = table.find('tbody')\n",
        "  rows = body.find_all('tr')\n",
        "  exec_records = []\n",
        "  for row in rows:\n",
        "    result = get_first_3_cells(row)\n",
        "    exec_records.append(result)\n",
        "  return exec_records"
      ],
      "execution_count": 25,
      "outputs": []
    },
    {
      "cell_type": "code",
      "metadata": {
        "colab": {
          "base_uri": "https://localhost:8080/"
        },
        "id": "35t40T3rZ1Q9",
        "outputId": "76fb3ff4-eb95-417d-a8b7-d269bc82a670"
      },
      "source": [
        "#get URL\n",
        "url = build_url()\n",
        "wd.get(url)\n",
        "soup = BeautifulSoup(wd.page_source, \"html.parser\")\n",
        "records = get_exec_records()"
      ],
      "execution_count": 26,
      "outputs": [
        {
          "output_type": "stream",
          "name": "stdout",
          "text": [
            "Please input ticker symbol: NAB.AX\n",
            "NAB.AX\n"
          ]
        }
      ]
    },
    {
      "cell_type": "code",
      "metadata": {
        "colab": {
          "base_uri": "https://localhost:8080/",
          "height": 231
        },
        "id": "pGKKAvdYbyUq",
        "outputId": "3f339f75-7a15-4f3a-f714-97665d3240d6"
      },
      "source": [
        "pay = records[0]\n",
        "last_char = pay[-1]\n",
        "num_part = pay[0:-1]\n",
        "\n",
        "print(num_part)\n",
        "\n",
        "if last_char == 'M':\n",
        "  salary = num_part * 1000000\n",
        "  print(\"Millions\")\n",
        "elif last_char == 'k':\n",
        "  salary = num_part * 1000\n",
        "  print(\"Thousand\")\n",
        "else:\n",
        "  print(\"Not Sure\")"
      ],
      "execution_count": 28,
      "outputs": [
        {
          "output_type": "error",
          "ename": "KeyError",
          "evalue": "ignored",
          "traceback": [
            "\u001b[0;31m---------------------------------------------------------------------------\u001b[0m",
            "\u001b[0;31mKeyError\u001b[0m                                  Traceback (most recent call last)",
            "\u001b[0;32m<ipython-input-28-1d39876418b4>\u001b[0m in \u001b[0;36m<module>\u001b[0;34m()\u001b[0m\n\u001b[1;32m      1\u001b[0m \u001b[0mpay\u001b[0m \u001b[0;34m=\u001b[0m \u001b[0mrecords\u001b[0m\u001b[0;34m[\u001b[0m\u001b[0;36m0\u001b[0m\u001b[0;34m]\u001b[0m\u001b[0;34m\u001b[0m\u001b[0;34m\u001b[0m\u001b[0m\n\u001b[0;32m----> 2\u001b[0;31m \u001b[0mlast_char\u001b[0m \u001b[0;34m=\u001b[0m \u001b[0mpay\u001b[0m\u001b[0;34m[\u001b[0m\u001b[0;34m-\u001b[0m\u001b[0;36m1\u001b[0m\u001b[0;34m]\u001b[0m\u001b[0;34m\u001b[0m\u001b[0;34m\u001b[0m\u001b[0m\n\u001b[0m\u001b[1;32m      3\u001b[0m \u001b[0mnum_part\u001b[0m \u001b[0;34m=\u001b[0m \u001b[0mpay\u001b[0m\u001b[0;34m[\u001b[0m\u001b[0;36m0\u001b[0m\u001b[0;34m:\u001b[0m\u001b[0;34m-\u001b[0m\u001b[0;36m1\u001b[0m\u001b[0;34m]\u001b[0m\u001b[0;34m\u001b[0m\u001b[0;34m\u001b[0m\u001b[0m\n\u001b[1;32m      4\u001b[0m \u001b[0;34m\u001b[0m\u001b[0m\n\u001b[1;32m      5\u001b[0m \u001b[0mprint\u001b[0m\u001b[0;34m(\u001b[0m\u001b[0mnum_part\u001b[0m\u001b[0;34m)\u001b[0m\u001b[0;34m\u001b[0m\u001b[0;34m\u001b[0m\u001b[0m\n",
            "\u001b[0;31mKeyError\u001b[0m: -1"
          ]
        }
      ]
    }
  ]
}