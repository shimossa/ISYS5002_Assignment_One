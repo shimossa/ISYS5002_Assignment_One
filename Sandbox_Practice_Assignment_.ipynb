{
  "nbformat": 4,
  "nbformat_minor": 0,
  "metadata": {
    "colab": {
      "name": "Sandbox_Practice_Assignment .ipynb",
      "provenance": [],
      "authorship_tag": "ABX9TyPblMJUcWpkZL+2m8u8borm",
      "include_colab_link": true
    },
    "kernelspec": {
      "name": "python3",
      "display_name": "Python 3"
    },
    "language_info": {
      "name": "python"
    }
  },
  "cells": [
    {
      "cell_type": "markdown",
      "metadata": {
        "id": "view-in-github",
        "colab_type": "text"
      },
      "source": [
        "<a href=\"https://colab.research.google.com/github/shimossa/ISYS5002_Assignment_One/blob/main/Sandbox_Practice_Assignment_.ipynb\" target=\"_parent\"><img src=\"https://colab.research.google.com/assets/colab-badge.svg\" alt=\"Open In Colab\"/></a>"
      ]
    },
    {
      "cell_type": "markdown",
      "metadata": {
        "id": "4AGyCdkKC5Oa"
      },
      "source": [
        "**Assignment Ideas**"
      ]
    }
  ]
}