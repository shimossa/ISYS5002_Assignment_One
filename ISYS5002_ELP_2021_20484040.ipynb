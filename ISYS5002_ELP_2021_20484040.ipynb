{
  "nbformat": 4,
  "nbformat_minor": 0,
  "metadata": {
    "colab": {
      "name": "ISYS5002_ELP_2021_20484040.ipynb",
      "provenance": [],
      "collapsed_sections": [],
      "authorship_tag": "ABX9TyOe3neZ8NOK9Av+5jXaDnId",
      "include_colab_link": true
    },
    "kernelspec": {
      "name": "python3",
      "display_name": "Python 3"
    },
    "language_info": {
      "name": "python"
    }
  },
  "cells": [
    {
      "cell_type": "markdown",
      "metadata": {
        "id": "view-in-github",
        "colab_type": "text"
      },
      "source": [
        "<a href=\"https://colab.research.google.com/github/shimossa/ISYS5002_Assignment_One/blob/main/ISYS5002_ELP_2021_20484040.ipynb\" target=\"_parent\"><img src=\"https://colab.research.google.com/assets/colab-badge.svg\" alt=\"Open In Colab\"/></a>"
      ]
    },
    {
      "cell_type": "markdown",
      "metadata": {
        "id": "EeacDCflB9y-"
      },
      "source": [
        "##ELP Question Two"
      ]
    },
    {
      "cell_type": "code",
      "metadata": {
        "id": "c0b-IlzDBouf"
      },
      "source": [
        "def get_url(search_term, template): # A function that passes through the search_term and template arguments\n",
        " search_term = search_term.replace(' ', '+') # Defines the variable search_term where the blanks are replaced with a +\n",
        " url = template.format(search_term) # formats the url with the parameters defined in search_term\n",
        " url += '&page={}' # adds '&page={}' to the end of the url\n",
        " return url # stores the url generated in the function to be called"
      ],
      "execution_count": null,
      "outputs": []
    },
    {
      "cell_type": "markdown",
      "metadata": {
        "id": "7El6VR15OI5v"
      },
      "source": [
        "##ELP Question Three\n",
        "\n",
        "\"Calculate a car’s fuel economy after\n",
        "reading in the distance travelled and amount of petrol used.\" \n",
        "\n",
        "\n",
        "The fuel economy is\n",
        "calculated by the following formula:\n",
        "\n",
        "*kmPerLitre = kilometers / litres.*\n",
        "\n",
        "#Original Code\n",
        "```\n",
        "def efficiency(dist, gas)\n",
        " return dist/gas\n",
        "\n",
        "km = input (\"How far did your car travel? (In kilometers?) )\n",
        "liters = input (\"How much gas did you use? (In liters)\"\n",
        "MPG = efficiency(dist_traveled, Liters)\n",
        "print MPG\n",
        "```"
      ]
    },
    {
      "cell_type": "code",
      "metadata": {
        "colab": {
          "base_uri": "https://localhost:8080/"
        },
        "id": "3jkqgpomONkx",
        "outputId": "3bff7372-02e6-4c26-fea2-7ee76a4e6b87"
      },
      "source": [
        "def efficiency(dist_traveled, fuel): #Added a colon to define the function (Syntax Error)\n",
        " return dist_traveled/fuel #Fixed logic errors by making varieables consistent\n",
        "\n",
        "dist_traveled = int(input(\"How far did your car travel? (In kilometers?) \")) #Closed the quotation (Syntax Error), changed variable name (Logic)\n",
        "fuel = int(input(\"How much fuel did you use? (In liters) \")) #Closed the quotation (Syntax Error), changed variable name (Logic)\n",
        "kpl = efficiency(dist_traveled, fuel) #Changed variable name for consistency (Km/L) and fixed the variables (logic errors)\n",
        "print(\"Your fuel economy was \" + str(kpl) + \"Km/L\") #Fixed syntax error and enhanced the display of the output\n"
      ],
      "execution_count": 16,
      "outputs": [
        {
          "output_type": "stream",
          "name": "stdout",
          "text": [
            "How far did your car travel? (In kilometers?) 100\n",
            "How much fuel did you use? (In liters) 2\n",
            "Your fuel economy was 50.0Km/L\n"
          ]
        }
      ]
    },
    {
      "cell_type": "markdown",
      "metadata": {
        "id": "-jHaXfmDVsP9"
      },
      "source": [
        "##ELP Question Three\n",
        "\n",
        "*Write a program the reads in sales.csv and calculates the maximum, minimum and average\n",
        "profit for each country in the Australia and Oceania region. For each country in the\n",
        "Australia and Oceania region the plot their total profit*\n",
        "\n",
        "**Problem Statement**\n",
        "\"Calculate the Max, Min, Ave for the Ocenania region and plot the total profit of the countries in that region\"\n",
        "\n",
        "**Development**\n",
        "1.   Input: CSV file\n",
        "2.   Output: min, max, average and total on a table, plot of the totals\n",
        "3. Processing: pandas\n",
        "\n",
        "**Algorithm**\n",
        "1. read the csv file\n",
        "2. copy the table \n",
        "3. fix NaN data / clean the data\n",
        "4. filter the OCE/AUS countries\n",
        "5. for the OCE/AUS countries find the min, max and average profit\n",
        "6. Display the new data on a table and save it \n",
        "7. plot the total profit for those countries in that region \n",
        "\n",
        "\n",
        "\n",
        "\n",
        "\n"
      ]
    },
    {
      "cell_type": "markdown",
      "metadata": {
        "id": "m0r9cBkvKW6M"
      },
      "source": [
        "#Issues Encountered and Resolution\n",
        "\n",
        "##Min, Max and Mean\n",
        "\n",
        "Finding a way to retreive the min, max and average of the data.\n",
        "As the program will run off a csv file, it's better for the program to be adaptable in that it will be able to do this for all the CSV files that the user creates (provided they're the same format).\n",
        "\n",
        "While using :\n",
        "\n",
        "```\n",
        "column = oce_df[\"Total Profit\"]\n",
        "max_value = column.max()\n",
        "min_value = column.min()\n",
        "ave_value = column.mean()\n",
        "\n",
        "\n",
        "print(max_value)\n",
        "print(min_value)\n",
        "print(ave_value)\n",
        "```\n",
        "was a simple way to retreive the data, it was difficult to actually provide the country name along with it. \n",
        "\n",
        "```\n",
        "max_country = oce_df.loc[oce_df['Total Profit'].idxmax()]\n",
        "min_country = oce_df.loc[oce_df['Total Profit'].idxmin()]\n",
        "\n",
        "print(max_country)\n",
        "print(min_country)\n",
        "```\n",
        "\n",
        "was another way that I tried to get the data however, it did not appear clean, and would be difficult to read by the user. and it still contained ```Name: 9, dtype: object``` in the result which  Idid not want.\n",
        "\n",
        "```\n",
        "pdmax = oce_df[oce_df[\"Total Profit\"]==oce_df[\"Total Profit\"].min()]\n",
        "pdmin = oce_df[oce_df[\"Total Profit\"]==oce_df[\"Total Profit\"].max()]\n",
        "\n",
        "print(pdmax)\n",
        "print(pdmin)\n",
        "```\n",
        "\n",
        "also resulted in issues where the data appeared as \n",
        "\n",
        "```\n",
        "       Country Item Type Sales Channel  ... Total Revenue Total Cost  Total Profit\n",
        "3  New Zealand    Fruits        Online  ...      20404.71   15134.04       5270.67\n",
        "\n",
        "[1 rows x 13 columns]\n",
        "  Country  Item Type Sales Channel  ... Total Revenue  Total Cost  Total Profit\n",
        "9  Samoa   Cosmetics        Online  ...     4220728.8  2542187.82    1678540.98\n",
        "\n",
        "[1 rows x 13 columns]\n",
        "```\n",
        "\n",
        "#Min, Max, Mean Resolution\n",
        "\n",
        "The resolution I devised involved using iloc, however with specific points in a remade csv file. I arranged the OCE/AUS filtered table by profit, and then saved that as a seperate CSV file. Using this new csv file ('sales_fixed.csv\") I was there able to use iloc to retrieve the first and last (i.e. min and max) and then find the mean using a simple .mean() command. \n",
        "\n",
        "```\n",
        "max_prof = dff.iloc[0,0]\n",
        "max_country = dff.iloc[0,1]\n",
        "min_prof = dff.iloc[10,0]\n",
        "min_country = dff.iloc[10,1]\n",
        "mean_prof = round(dff[\"Total Profit\"].mean(),2)\n",
        "\n",
        "print(max_country + str(max_prof))\n",
        "print(min_country + str(min_prof))\n",
        "print(\"The average for the total profit for the region is \" + str(mean_prof))\n",
        "```\n",
        "I did attempt to use .head() and .tail() however they also displayed the following which was unusable in the way I had intended to use the data.\n",
        "\n",
        "```\n",
        "your max value is0    1678540.98\n",
        "Name: Total Profit, dtype: float64\n",
        "10    5270.67\n",
        "Name: Total Profit, dtype: float64\n",
        "```\n"
      ]
    },
    {
      "cell_type": "code",
      "metadata": {
        "id": "1FFY9d6iVrw5"
      },
      "source": [
        "# import libraries \n",
        "import pandas as pd\n",
        "import csv \n",
        "import numpy as np\n",
        "import matplotlib.pyplot as plt"
      ],
      "execution_count": 17,
      "outputs": []
    },
    {
      "cell_type": "code",
      "metadata": {
        "id": "m-EH3C8eoEhy",
        "colab": {
          "base_uri": "https://localhost:8080/",
          "height": 521
        },
        "outputId": "8da940e5-c7cd-4524-997d-e6d3cda6f613"
      },
      "source": [
        "#read the csv file \n",
        "df = pd.read_csv('sales.csv')\n",
        "df"
      ],
      "execution_count": 60,
      "outputs": [
        {
          "output_type": "execute_result",
          "data": {
            "text/html": [
              "<div>\n",
              "<style scoped>\n",
              "    .dataframe tbody tr th:only-of-type {\n",
              "        vertical-align: middle;\n",
              "    }\n",
              "\n",
              "    .dataframe tbody tr th {\n",
              "        vertical-align: top;\n",
              "    }\n",
              "\n",
              "    .dataframe thead th {\n",
              "        text-align: right;\n",
              "    }\n",
              "</style>\n",
              "<table border=\"1\" class=\"dataframe\">\n",
              "  <thead>\n",
              "    <tr style=\"text-align: right;\">\n",
              "      <th></th>\n",
              "      <th>Region</th>\n",
              "      <th>Country</th>\n",
              "      <th>Item Type</th>\n",
              "      <th>Sales Channel</th>\n",
              "      <th>Order Priority</th>\n",
              "      <th>Order Date</th>\n",
              "      <th>Order ID</th>\n",
              "      <th>Ship Date</th>\n",
              "      <th>Units Sold</th>\n",
              "      <th>Unit Price</th>\n",
              "      <th>Unit Cost</th>\n",
              "      <th>Total Revenue</th>\n",
              "      <th>Total Cost</th>\n",
              "      <th>Total Profit</th>\n",
              "    </tr>\n",
              "  </thead>\n",
              "  <tbody>\n",
              "    <tr>\n",
              "      <th>0</th>\n",
              "      <td>Australia and Oceania</td>\n",
              "      <td>Tuvalu</td>\n",
              "      <td>Baby Food</td>\n",
              "      <td>Offline</td>\n",
              "      <td>H</td>\n",
              "      <td>5/28/2010</td>\n",
              "      <td>669165933</td>\n",
              "      <td>6/27/2010</td>\n",
              "      <td>9925</td>\n",
              "      <td>255.28</td>\n",
              "      <td>159.42</td>\n",
              "      <td>2533654.00</td>\n",
              "      <td>1582243.50</td>\n",
              "      <td>951410.50</td>\n",
              "    </tr>\n",
              "    <tr>\n",
              "      <th>1</th>\n",
              "      <td>Central America and the Caribbean</td>\n",
              "      <td>Grenada</td>\n",
              "      <td>Cereal</td>\n",
              "      <td>Online</td>\n",
              "      <td>C</td>\n",
              "      <td>8/22/2012</td>\n",
              "      <td>963881480</td>\n",
              "      <td>9/15/2012</td>\n",
              "      <td>2804</td>\n",
              "      <td>205.70</td>\n",
              "      <td>117.11</td>\n",
              "      <td>576782.80</td>\n",
              "      <td>328376.44</td>\n",
              "      <td>248406.36</td>\n",
              "    </tr>\n",
              "    <tr>\n",
              "      <th>2</th>\n",
              "      <td>Europe</td>\n",
              "      <td>Russia</td>\n",
              "      <td>Office Supplies</td>\n",
              "      <td>Offline</td>\n",
              "      <td>L</td>\n",
              "      <td>5/2/2014</td>\n",
              "      <td>341417157</td>\n",
              "      <td>5/8/2014</td>\n",
              "      <td>1779</td>\n",
              "      <td>651.21</td>\n",
              "      <td>524.96</td>\n",
              "      <td>1158502.59</td>\n",
              "      <td>933903.84</td>\n",
              "      <td>224598.75</td>\n",
              "    </tr>\n",
              "    <tr>\n",
              "      <th>3</th>\n",
              "      <td>Sub-Saharan Africa</td>\n",
              "      <td>Sao Tome and Principe</td>\n",
              "      <td>Fruits</td>\n",
              "      <td>Online</td>\n",
              "      <td>C</td>\n",
              "      <td>6/20/2014</td>\n",
              "      <td>514321792</td>\n",
              "      <td>7/5/2014</td>\n",
              "      <td>8102</td>\n",
              "      <td>9.33</td>\n",
              "      <td>6.92</td>\n",
              "      <td>75591.66</td>\n",
              "      <td>56065.84</td>\n",
              "      <td>19525.82</td>\n",
              "    </tr>\n",
              "    <tr>\n",
              "      <th>4</th>\n",
              "      <td>Sub-Saharan Africa</td>\n",
              "      <td>Rwanda</td>\n",
              "      <td>Office Supplies</td>\n",
              "      <td>Offline</td>\n",
              "      <td>L</td>\n",
              "      <td>2/1/2013</td>\n",
              "      <td>115456712</td>\n",
              "      <td>2/6/2013</td>\n",
              "      <td>5062</td>\n",
              "      <td>651.21</td>\n",
              "      <td>524.96</td>\n",
              "      <td>3296425.02</td>\n",
              "      <td>2657347.52</td>\n",
              "      <td>639077.50</td>\n",
              "    </tr>\n",
              "    <tr>\n",
              "      <th>...</th>\n",
              "      <td>...</td>\n",
              "      <td>...</td>\n",
              "      <td>...</td>\n",
              "      <td>...</td>\n",
              "      <td>...</td>\n",
              "      <td>...</td>\n",
              "      <td>...</td>\n",
              "      <td>...</td>\n",
              "      <td>...</td>\n",
              "      <td>...</td>\n",
              "      <td>...</td>\n",
              "      <td>...</td>\n",
              "      <td>...</td>\n",
              "      <td>...</td>\n",
              "    </tr>\n",
              "    <tr>\n",
              "      <th>95</th>\n",
              "      <td>Sub-Saharan Africa</td>\n",
              "      <td>Mali</td>\n",
              "      <td>Clothes</td>\n",
              "      <td>Online</td>\n",
              "      <td>M</td>\n",
              "      <td>7/26/2011</td>\n",
              "      <td>512878119</td>\n",
              "      <td>9/3/2011</td>\n",
              "      <td>888</td>\n",
              "      <td>109.28</td>\n",
              "      <td>35.84</td>\n",
              "      <td>97040.64</td>\n",
              "      <td>31825.92</td>\n",
              "      <td>65214.72</td>\n",
              "    </tr>\n",
              "    <tr>\n",
              "      <th>96</th>\n",
              "      <td>Asia</td>\n",
              "      <td>Malaysia</td>\n",
              "      <td>Fruits</td>\n",
              "      <td>Offline</td>\n",
              "      <td>L</td>\n",
              "      <td>11/11/2011</td>\n",
              "      <td>810711038</td>\n",
              "      <td>12/28/2011</td>\n",
              "      <td>6267</td>\n",
              "      <td>9.33</td>\n",
              "      <td>6.92</td>\n",
              "      <td>58471.11</td>\n",
              "      <td>43367.64</td>\n",
              "      <td>15103.47</td>\n",
              "    </tr>\n",
              "    <tr>\n",
              "      <th>97</th>\n",
              "      <td>Sub-Saharan Africa</td>\n",
              "      <td>Sierra Leone</td>\n",
              "      <td>Vegetables</td>\n",
              "      <td>Offline</td>\n",
              "      <td>C</td>\n",
              "      <td>6/1/2016</td>\n",
              "      <td>728815257</td>\n",
              "      <td>6/29/2016</td>\n",
              "      <td>1485</td>\n",
              "      <td>154.06</td>\n",
              "      <td>90.93</td>\n",
              "      <td>228779.10</td>\n",
              "      <td>135031.05</td>\n",
              "      <td>93748.05</td>\n",
              "    </tr>\n",
              "    <tr>\n",
              "      <th>98</th>\n",
              "      <td>North America</td>\n",
              "      <td>Mexico</td>\n",
              "      <td>Personal Care</td>\n",
              "      <td>Offline</td>\n",
              "      <td>M</td>\n",
              "      <td>7/30/2015</td>\n",
              "      <td>559427106</td>\n",
              "      <td>8/8/2015</td>\n",
              "      <td>5767</td>\n",
              "      <td>81.73</td>\n",
              "      <td>56.67</td>\n",
              "      <td>471336.91</td>\n",
              "      <td>326815.89</td>\n",
              "      <td>144521.02</td>\n",
              "    </tr>\n",
              "    <tr>\n",
              "      <th>99</th>\n",
              "      <td>Sub-Saharan Africa</td>\n",
              "      <td>Mozambique</td>\n",
              "      <td>Household</td>\n",
              "      <td>Offline</td>\n",
              "      <td>L</td>\n",
              "      <td>2/10/2012</td>\n",
              "      <td>665095412</td>\n",
              "      <td>2/15/2012</td>\n",
              "      <td>5367</td>\n",
              "      <td>668.27</td>\n",
              "      <td>502.54</td>\n",
              "      <td>3586605.09</td>\n",
              "      <td>2697132.18</td>\n",
              "      <td>889472.91</td>\n",
              "    </tr>\n",
              "  </tbody>\n",
              "</table>\n",
              "<p>100 rows × 14 columns</p>\n",
              "</div>"
            ],
            "text/plain": [
              "                               Region  ... Total Profit\n",
              "0               Australia and Oceania  ...    951410.50\n",
              "1   Central America and the Caribbean  ...    248406.36\n",
              "2                              Europe  ...    224598.75\n",
              "3                  Sub-Saharan Africa  ...     19525.82\n",
              "4                  Sub-Saharan Africa  ...    639077.50\n",
              "..                                ...  ...          ...\n",
              "95                 Sub-Saharan Africa  ...     65214.72\n",
              "96                               Asia  ...     15103.47\n",
              "97                 Sub-Saharan Africa  ...     93748.05\n",
              "98                      North America  ...    144521.02\n",
              "99                 Sub-Saharan Africa  ...    889472.91\n",
              "\n",
              "[100 rows x 14 columns]"
            ]
          },
          "metadata": {},
          "execution_count": 60
        }
      ]
    },
    {
      "cell_type": "code",
      "metadata": {
        "id": "UeZLVFalF0Ub"
      },
      "source": [
        "def open_file():\n",
        "  df = pd.read_csv('sales.csv')"
      ],
      "execution_count": null,
      "outputs": []
    },
    {
      "cell_type": "code",
      "metadata": {
        "colab": {
          "base_uri": "https://localhost:8080/",
          "height": 594
        },
        "id": "wNTf-D6JbKeB",
        "outputId": "5e547076-b282-4dcb-8f97-796c653e0ec7"
      },
      "source": [
        "#filter to the OCE/AUS region\n",
        "oce_df = df.loc[df['Region'] == 'Australia and Oceania']\n",
        "\n",
        "#Reset the index to clean the data and drop the old index\n",
        "oce_df = oce_df.reset_index(drop=True)\n",
        "\n",
        "oce_df"
      ],
      "execution_count": 61,
      "outputs": [
        {
          "output_type": "execute_result",
          "data": {
            "text/html": [
              "<div>\n",
              "<style scoped>\n",
              "    .dataframe tbody tr th:only-of-type {\n",
              "        vertical-align: middle;\n",
              "    }\n",
              "\n",
              "    .dataframe tbody tr th {\n",
              "        vertical-align: top;\n",
              "    }\n",
              "\n",
              "    .dataframe thead th {\n",
              "        text-align: right;\n",
              "    }\n",
              "</style>\n",
              "<table border=\"1\" class=\"dataframe\">\n",
              "  <thead>\n",
              "    <tr style=\"text-align: right;\">\n",
              "      <th></th>\n",
              "      <th>Region</th>\n",
              "      <th>Country</th>\n",
              "      <th>Item Type</th>\n",
              "      <th>Sales Channel</th>\n",
              "      <th>Order Priority</th>\n",
              "      <th>Order Date</th>\n",
              "      <th>Order ID</th>\n",
              "      <th>Ship Date</th>\n",
              "      <th>Units Sold</th>\n",
              "      <th>Unit Price</th>\n",
              "      <th>Unit Cost</th>\n",
              "      <th>Total Revenue</th>\n",
              "      <th>Total Cost</th>\n",
              "      <th>Total Profit</th>\n",
              "    </tr>\n",
              "  </thead>\n",
              "  <tbody>\n",
              "    <tr>\n",
              "      <th>0</th>\n",
              "      <td>Australia and Oceania</td>\n",
              "      <td>Tuvalu</td>\n",
              "      <td>Baby Food</td>\n",
              "      <td>Offline</td>\n",
              "      <td>H</td>\n",
              "      <td>5/28/2010</td>\n",
              "      <td>669165933</td>\n",
              "      <td>6/27/2010</td>\n",
              "      <td>9925</td>\n",
              "      <td>255.28</td>\n",
              "      <td>159.42</td>\n",
              "      <td>2533654.00</td>\n",
              "      <td>1582243.50</td>\n",
              "      <td>951410.50</td>\n",
              "    </tr>\n",
              "    <tr>\n",
              "      <th>1</th>\n",
              "      <td>Australia and Oceania</td>\n",
              "      <td>Solomon Islands</td>\n",
              "      <td>Baby Food</td>\n",
              "      <td>Online</td>\n",
              "      <td>C</td>\n",
              "      <td>2/4/2015</td>\n",
              "      <td>547995746</td>\n",
              "      <td>2/21/2015</td>\n",
              "      <td>2974</td>\n",
              "      <td>255.28</td>\n",
              "      <td>159.42</td>\n",
              "      <td>759202.72</td>\n",
              "      <td>474115.08</td>\n",
              "      <td>285087.64</td>\n",
              "    </tr>\n",
              "    <tr>\n",
              "      <th>2</th>\n",
              "      <td>Australia and Oceania</td>\n",
              "      <td>East Timor</td>\n",
              "      <td>Meat</td>\n",
              "      <td>Online</td>\n",
              "      <td>L</td>\n",
              "      <td>7/31/2012</td>\n",
              "      <td>322067916</td>\n",
              "      <td>9/11/2012</td>\n",
              "      <td>5908</td>\n",
              "      <td>421.89</td>\n",
              "      <td>364.69</td>\n",
              "      <td>2492526.12</td>\n",
              "      <td>2154588.52</td>\n",
              "      <td>337937.60</td>\n",
              "    </tr>\n",
              "    <tr>\n",
              "      <th>3</th>\n",
              "      <td>Australia and Oceania</td>\n",
              "      <td>New Zealand</td>\n",
              "      <td>Fruits</td>\n",
              "      <td>Online</td>\n",
              "      <td>H</td>\n",
              "      <td>9/8/2014</td>\n",
              "      <td>142278373</td>\n",
              "      <td>10/4/2014</td>\n",
              "      <td>2187</td>\n",
              "      <td>9.33</td>\n",
              "      <td>6.92</td>\n",
              "      <td>20404.71</td>\n",
              "      <td>15134.04</td>\n",
              "      <td>5270.67</td>\n",
              "    </tr>\n",
              "    <tr>\n",
              "      <th>4</th>\n",
              "      <td>Australia and Oceania</td>\n",
              "      <td>Kiribati</td>\n",
              "      <td>Fruits</td>\n",
              "      <td>Online</td>\n",
              "      <td>M</td>\n",
              "      <td>10/13/2014</td>\n",
              "      <td>347140347</td>\n",
              "      <td>11/10/2014</td>\n",
              "      <td>5398</td>\n",
              "      <td>9.33</td>\n",
              "      <td>6.92</td>\n",
              "      <td>50363.34</td>\n",
              "      <td>37354.16</td>\n",
              "      <td>13009.18</td>\n",
              "    </tr>\n",
              "    <tr>\n",
              "      <th>5</th>\n",
              "      <td>Australia and Oceania</td>\n",
              "      <td>Australia</td>\n",
              "      <td>Office Supplies</td>\n",
              "      <td>Online</td>\n",
              "      <td>C</td>\n",
              "      <td>10/27/2015</td>\n",
              "      <td>158535134</td>\n",
              "      <td>11/25/2015</td>\n",
              "      <td>2924</td>\n",
              "      <td>651.21</td>\n",
              "      <td>524.96</td>\n",
              "      <td>1904138.04</td>\n",
              "      <td>1534983.04</td>\n",
              "      <td>369155.00</td>\n",
              "    </tr>\n",
              "    <tr>\n",
              "      <th>6</th>\n",
              "      <td>Australia and Oceania</td>\n",
              "      <td>Fiji</td>\n",
              "      <td>Clothes</td>\n",
              "      <td>Offline</td>\n",
              "      <td>C</td>\n",
              "      <td>6/30/2010</td>\n",
              "      <td>647876489</td>\n",
              "      <td>8/1/2010</td>\n",
              "      <td>9905</td>\n",
              "      <td>109.28</td>\n",
              "      <td>35.84</td>\n",
              "      <td>1082418.40</td>\n",
              "      <td>354995.20</td>\n",
              "      <td>727423.20</td>\n",
              "    </tr>\n",
              "    <tr>\n",
              "      <th>7</th>\n",
              "      <td>Australia and Oceania</td>\n",
              "      <td>Australia</td>\n",
              "      <td>Cereal</td>\n",
              "      <td>Offline</td>\n",
              "      <td>H</td>\n",
              "      <td>6/9/2013</td>\n",
              "      <td>450563752</td>\n",
              "      <td>7/2/2013</td>\n",
              "      <td>682</td>\n",
              "      <td>205.70</td>\n",
              "      <td>117.11</td>\n",
              "      <td>140287.40</td>\n",
              "      <td>79869.02</td>\n",
              "      <td>60418.38</td>\n",
              "    </tr>\n",
              "    <tr>\n",
              "      <th>8</th>\n",
              "      <td>Australia and Oceania</td>\n",
              "      <td>Federated States of Micronesia</td>\n",
              "      <td>Beverages</td>\n",
              "      <td>Online</td>\n",
              "      <td>C</td>\n",
              "      <td>10/28/2014</td>\n",
              "      <td>217221009</td>\n",
              "      <td>11/15/2014</td>\n",
              "      <td>9379</td>\n",
              "      <td>47.45</td>\n",
              "      <td>31.79</td>\n",
              "      <td>445033.55</td>\n",
              "      <td>298158.41</td>\n",
              "      <td>146875.14</td>\n",
              "    </tr>\n",
              "    <tr>\n",
              "      <th>9</th>\n",
              "      <td>Australia and Oceania</td>\n",
              "      <td>Samoa</td>\n",
              "      <td>Cosmetics</td>\n",
              "      <td>Online</td>\n",
              "      <td>H</td>\n",
              "      <td>7/20/2013</td>\n",
              "      <td>670854651</td>\n",
              "      <td>8/7/2013</td>\n",
              "      <td>9654</td>\n",
              "      <td>437.20</td>\n",
              "      <td>263.33</td>\n",
              "      <td>4220728.80</td>\n",
              "      <td>2542187.82</td>\n",
              "      <td>1678540.98</td>\n",
              "    </tr>\n",
              "    <tr>\n",
              "      <th>10</th>\n",
              "      <td>Australia and Oceania</td>\n",
              "      <td>Australia</td>\n",
              "      <td>Beverages</td>\n",
              "      <td>Offline</td>\n",
              "      <td>H</td>\n",
              "      <td>7/7/2014</td>\n",
              "      <td>240470397</td>\n",
              "      <td>7/11/2014</td>\n",
              "      <td>9389</td>\n",
              "      <td>47.45</td>\n",
              "      <td>31.79</td>\n",
              "      <td>445508.05</td>\n",
              "      <td>298476.31</td>\n",
              "      <td>147031.74</td>\n",
              "    </tr>\n",
              "  </tbody>\n",
              "</table>\n",
              "</div>"
            ],
            "text/plain": [
              "                   Region  ... Total Profit\n",
              "0   Australia and Oceania  ...    951410.50\n",
              "1   Australia and Oceania  ...    285087.64\n",
              "2   Australia and Oceania  ...    337937.60\n",
              "3   Australia and Oceania  ...      5270.67\n",
              "4   Australia and Oceania  ...     13009.18\n",
              "5   Australia and Oceania  ...    369155.00\n",
              "6   Australia and Oceania  ...    727423.20\n",
              "7   Australia and Oceania  ...     60418.38\n",
              "8   Australia and Oceania  ...    146875.14\n",
              "9   Australia and Oceania  ...   1678540.98\n",
              "10  Australia and Oceania  ...    147031.74\n",
              "\n",
              "[11 rows x 14 columns]"
            ]
          },
          "metadata": {},
          "execution_count": 61
        }
      ]
    },
    {
      "cell_type": "code",
      "metadata": {
        "id": "kDK9T-RkAAXz"
      },
      "source": [
        "#Dropping a redundant column\n",
        "oce_df.drop(['Region'], axis=1, inplace=True)"
      ],
      "execution_count": 72,
      "outputs": []
    },
    {
      "cell_type": "code",
      "metadata": {
        "colab": {
          "base_uri": "https://localhost:8080/"
        },
        "id": "nY9zZeTijF5A",
        "outputId": "5611e6ec-45a5-4455-af02-687f3e0495aa"
      },
      "source": [
        "#Finding the max, min and average values\n",
        "column = oce_df[\"Total Profit\"]\n",
        "max_value = column.max()\n",
        "min_value = column.min()\n",
        "ave_value = column.mean()\n",
        "\n",
        "\n",
        "print(max_value)\n",
        "print(min_value)\n",
        "print(ave_value)"
      ],
      "execution_count": 62,
      "outputs": [
        {
          "output_type": "stream",
          "name": "stdout",
          "text": [
            "1678540.98\n",
            "5270.67\n",
            "429287.27545454545\n"
          ]
        }
      ]
    },
    {
      "cell_type": "code",
      "metadata": {
        "colab": {
          "base_uri": "https://localhost:8080/"
        },
        "id": "Z_EWG9hzkBGR",
        "outputId": "4b74bcc9-fb80-4164-bac1-3f60070364ff"
      },
      "source": [
        "#Sorting data in a way to display it using columns, however need the name of the country at least.\n",
        "col_max = oce_df[\"Total Profit\"].max(axis=0)\n",
        "col_max"
      ],
      "execution_count": 63,
      "outputs": [
        {
          "output_type": "execute_result",
          "data": {
            "text/plain": [
              "1678540.98"
            ]
          },
          "metadata": {},
          "execution_count": 63
        }
      ]
    },
    {
      "cell_type": "code",
      "metadata": {
        "id": "OwA3a8ttBxz1"
      },
      "source": [
        "cols = list(oce_df.columns.values)\n",
        "oce_df = oce_df[cols[1:12]+cols[0]]"
      ],
      "execution_count": null,
      "outputs": []
    },
    {
      "cell_type": "code",
      "metadata": {
        "colab": {
          "base_uri": "https://localhost:8080/",
          "height": 421
        },
        "id": "Ix9_zWvdp0ZM",
        "outputId": "fbd7d561-adcd-4482-890a-a856af0de2ab"
      },
      "source": [
        "#Sorting data in a way to display it using groupby\n",
        "#This probably the best way to display information without compromising the data itself\n",
        "organised_data = oce_df.groupby([\"Total Profit\"]).max().sort_values('Total Profit', ascending=False)\n",
        "\n",
        "\n",
        "organised_data"
      ],
      "execution_count": 92,
      "outputs": [
        {
          "output_type": "execute_result",
          "data": {
            "text/html": [
              "<div>\n",
              "<style scoped>\n",
              "    .dataframe tbody tr th:only-of-type {\n",
              "        vertical-align: middle;\n",
              "    }\n",
              "\n",
              "    .dataframe tbody tr th {\n",
              "        vertical-align: top;\n",
              "    }\n",
              "\n",
              "    .dataframe thead th {\n",
              "        text-align: right;\n",
              "    }\n",
              "</style>\n",
              "<table border=\"1\" class=\"dataframe\">\n",
              "  <thead>\n",
              "    <tr style=\"text-align: right;\">\n",
              "      <th></th>\n",
              "      <th>Country</th>\n",
              "      <th>Item Type</th>\n",
              "      <th>Sales Channel</th>\n",
              "      <th>Order Priority</th>\n",
              "      <th>Order Date</th>\n",
              "      <th>Order ID</th>\n",
              "      <th>Ship Date</th>\n",
              "      <th>Units Sold</th>\n",
              "      <th>Unit Price</th>\n",
              "      <th>Unit Cost</th>\n",
              "      <th>Total Revenue</th>\n",
              "      <th>Total Cost</th>\n",
              "    </tr>\n",
              "    <tr>\n",
              "      <th>Total Profit</th>\n",
              "      <th></th>\n",
              "      <th></th>\n",
              "      <th></th>\n",
              "      <th></th>\n",
              "      <th></th>\n",
              "      <th></th>\n",
              "      <th></th>\n",
              "      <th></th>\n",
              "      <th></th>\n",
              "      <th></th>\n",
              "      <th></th>\n",
              "      <th></th>\n",
              "    </tr>\n",
              "  </thead>\n",
              "  <tbody>\n",
              "    <tr>\n",
              "      <th>1678540.98</th>\n",
              "      <td>Samoa</td>\n",
              "      <td>Cosmetics</td>\n",
              "      <td>Online</td>\n",
              "      <td>H</td>\n",
              "      <td>7/20/2013</td>\n",
              "      <td>670854651</td>\n",
              "      <td>8/7/2013</td>\n",
              "      <td>9654</td>\n",
              "      <td>437.20</td>\n",
              "      <td>263.33</td>\n",
              "      <td>4220728.80</td>\n",
              "      <td>2542187.82</td>\n",
              "    </tr>\n",
              "    <tr>\n",
              "      <th>951410.50</th>\n",
              "      <td>Tuvalu</td>\n",
              "      <td>Baby Food</td>\n",
              "      <td>Offline</td>\n",
              "      <td>H</td>\n",
              "      <td>5/28/2010</td>\n",
              "      <td>669165933</td>\n",
              "      <td>6/27/2010</td>\n",
              "      <td>9925</td>\n",
              "      <td>255.28</td>\n",
              "      <td>159.42</td>\n",
              "      <td>2533654.00</td>\n",
              "      <td>1582243.50</td>\n",
              "    </tr>\n",
              "    <tr>\n",
              "      <th>727423.20</th>\n",
              "      <td>Fiji</td>\n",
              "      <td>Clothes</td>\n",
              "      <td>Offline</td>\n",
              "      <td>C</td>\n",
              "      <td>6/30/2010</td>\n",
              "      <td>647876489</td>\n",
              "      <td>8/1/2010</td>\n",
              "      <td>9905</td>\n",
              "      <td>109.28</td>\n",
              "      <td>35.84</td>\n",
              "      <td>1082418.40</td>\n",
              "      <td>354995.20</td>\n",
              "    </tr>\n",
              "    <tr>\n",
              "      <th>369155.00</th>\n",
              "      <td>Australia</td>\n",
              "      <td>Office Supplies</td>\n",
              "      <td>Online</td>\n",
              "      <td>C</td>\n",
              "      <td>10/27/2015</td>\n",
              "      <td>158535134</td>\n",
              "      <td>11/25/2015</td>\n",
              "      <td>2924</td>\n",
              "      <td>651.21</td>\n",
              "      <td>524.96</td>\n",
              "      <td>1904138.04</td>\n",
              "      <td>1534983.04</td>\n",
              "    </tr>\n",
              "    <tr>\n",
              "      <th>337937.60</th>\n",
              "      <td>East Timor</td>\n",
              "      <td>Meat</td>\n",
              "      <td>Online</td>\n",
              "      <td>L</td>\n",
              "      <td>7/31/2012</td>\n",
              "      <td>322067916</td>\n",
              "      <td>9/11/2012</td>\n",
              "      <td>5908</td>\n",
              "      <td>421.89</td>\n",
              "      <td>364.69</td>\n",
              "      <td>2492526.12</td>\n",
              "      <td>2154588.52</td>\n",
              "    </tr>\n",
              "    <tr>\n",
              "      <th>285087.64</th>\n",
              "      <td>Solomon Islands</td>\n",
              "      <td>Baby Food</td>\n",
              "      <td>Online</td>\n",
              "      <td>C</td>\n",
              "      <td>2/4/2015</td>\n",
              "      <td>547995746</td>\n",
              "      <td>2/21/2015</td>\n",
              "      <td>2974</td>\n",
              "      <td>255.28</td>\n",
              "      <td>159.42</td>\n",
              "      <td>759202.72</td>\n",
              "      <td>474115.08</td>\n",
              "    </tr>\n",
              "    <tr>\n",
              "      <th>147031.74</th>\n",
              "      <td>Australia</td>\n",
              "      <td>Beverages</td>\n",
              "      <td>Offline</td>\n",
              "      <td>H</td>\n",
              "      <td>7/7/2014</td>\n",
              "      <td>240470397</td>\n",
              "      <td>7/11/2014</td>\n",
              "      <td>9389</td>\n",
              "      <td>47.45</td>\n",
              "      <td>31.79</td>\n",
              "      <td>445508.05</td>\n",
              "      <td>298476.31</td>\n",
              "    </tr>\n",
              "    <tr>\n",
              "      <th>146875.14</th>\n",
              "      <td>Federated States of Micronesia</td>\n",
              "      <td>Beverages</td>\n",
              "      <td>Online</td>\n",
              "      <td>C</td>\n",
              "      <td>10/28/2014</td>\n",
              "      <td>217221009</td>\n",
              "      <td>11/15/2014</td>\n",
              "      <td>9379</td>\n",
              "      <td>47.45</td>\n",
              "      <td>31.79</td>\n",
              "      <td>445033.55</td>\n",
              "      <td>298158.41</td>\n",
              "    </tr>\n",
              "    <tr>\n",
              "      <th>60418.38</th>\n",
              "      <td>Australia</td>\n",
              "      <td>Cereal</td>\n",
              "      <td>Offline</td>\n",
              "      <td>H</td>\n",
              "      <td>6/9/2013</td>\n",
              "      <td>450563752</td>\n",
              "      <td>7/2/2013</td>\n",
              "      <td>682</td>\n",
              "      <td>205.70</td>\n",
              "      <td>117.11</td>\n",
              "      <td>140287.40</td>\n",
              "      <td>79869.02</td>\n",
              "    </tr>\n",
              "    <tr>\n",
              "      <th>13009.18</th>\n",
              "      <td>Kiribati</td>\n",
              "      <td>Fruits</td>\n",
              "      <td>Online</td>\n",
              "      <td>M</td>\n",
              "      <td>10/13/2014</td>\n",
              "      <td>347140347</td>\n",
              "      <td>11/10/2014</td>\n",
              "      <td>5398</td>\n",
              "      <td>9.33</td>\n",
              "      <td>6.92</td>\n",
              "      <td>50363.34</td>\n",
              "      <td>37354.16</td>\n",
              "    </tr>\n",
              "    <tr>\n",
              "      <th>5270.67</th>\n",
              "      <td>New Zealand</td>\n",
              "      <td>Fruits</td>\n",
              "      <td>Online</td>\n",
              "      <td>H</td>\n",
              "      <td>9/8/2014</td>\n",
              "      <td>142278373</td>\n",
              "      <td>10/4/2014</td>\n",
              "      <td>2187</td>\n",
              "      <td>9.33</td>\n",
              "      <td>6.92</td>\n",
              "      <td>20404.71</td>\n",
              "      <td>15134.04</td>\n",
              "    </tr>\n",
              "  </tbody>\n",
              "</table>\n",
              "</div>"
            ],
            "text/plain": [
              "                                     Country  ...  Total Cost\n",
              "Total Profit                                  ...            \n",
              "1678540.98                            Samoa   ...  2542187.82\n",
              "951410.50                             Tuvalu  ...  1582243.50\n",
              "727423.20                               Fiji  ...   354995.20\n",
              "369155.00                          Australia  ...  1534983.04\n",
              "337937.60                         East Timor  ...  2154588.52\n",
              "285087.64                    Solomon Islands  ...   474115.08\n",
              "147031.74                          Australia  ...   298476.31\n",
              "146875.14     Federated States of Micronesia  ...   298158.41\n",
              "60418.38                           Australia  ...    79869.02\n",
              "13009.18                            Kiribati  ...    37354.16\n",
              "5270.67                          New Zealand  ...    15134.04\n",
              "\n",
              "[11 rows x 12 columns]"
            ]
          },
          "metadata": {},
          "execution_count": 92
        }
      ]
    },
    {
      "cell_type": "code",
      "metadata": {
        "id": "k4sadtQyFGgE"
      },
      "source": [
        "organised_data.to_csv('sales_fixed.csv')"
      ],
      "execution_count": 93,
      "outputs": []
    },
    {
      "cell_type": "code",
      "metadata": {
        "id": "lKD1nAPhGvEb"
      },
      "source": [
        "dff = pd.read_csv('sales_fixed.csv')"
      ],
      "execution_count": 94,
      "outputs": []
    },
    {
      "cell_type": "code",
      "metadata": {
        "colab": {
          "base_uri": "https://localhost:8080/",
          "height": 111
        },
        "id": "v41_nMbcFsy6",
        "outputId": "72088cf6-f78d-40b2-ecbc-b12744fc4b96"
      },
      "source": [
        "#using concat to get the max and min\n",
        "max_min = pd.concat([dff.head(1), dff.tail(1)])\n",
        "max_min"
      ],
      "execution_count": 98,
      "outputs": [
        {
          "output_type": "execute_result",
          "data": {
            "text/html": [
              "<div>\n",
              "<style scoped>\n",
              "    .dataframe tbody tr th:only-of-type {\n",
              "        vertical-align: middle;\n",
              "    }\n",
              "\n",
              "    .dataframe tbody tr th {\n",
              "        vertical-align: top;\n",
              "    }\n",
              "\n",
              "    .dataframe thead th {\n",
              "        text-align: right;\n",
              "    }\n",
              "</style>\n",
              "<table border=\"1\" class=\"dataframe\">\n",
              "  <thead>\n",
              "    <tr style=\"text-align: right;\">\n",
              "      <th></th>\n",
              "      <th>Total Profit</th>\n",
              "      <th>Country</th>\n",
              "      <th>Item Type</th>\n",
              "      <th>Sales Channel</th>\n",
              "      <th>Order Priority</th>\n",
              "      <th>Order Date</th>\n",
              "      <th>Order ID</th>\n",
              "      <th>Ship Date</th>\n",
              "      <th>Units Sold</th>\n",
              "      <th>Unit Price</th>\n",
              "      <th>Unit Cost</th>\n",
              "      <th>Total Revenue</th>\n",
              "      <th>Total Cost</th>\n",
              "    </tr>\n",
              "  </thead>\n",
              "  <tbody>\n",
              "    <tr>\n",
              "      <th>0</th>\n",
              "      <td>1678540.98</td>\n",
              "      <td>Samoa</td>\n",
              "      <td>Cosmetics</td>\n",
              "      <td>Online</td>\n",
              "      <td>H</td>\n",
              "      <td>7/20/2013</td>\n",
              "      <td>670854651</td>\n",
              "      <td>8/7/2013</td>\n",
              "      <td>9654</td>\n",
              "      <td>437.20</td>\n",
              "      <td>263.33</td>\n",
              "      <td>4220728.80</td>\n",
              "      <td>2542187.82</td>\n",
              "    </tr>\n",
              "    <tr>\n",
              "      <th>10</th>\n",
              "      <td>5270.67</td>\n",
              "      <td>New Zealand</td>\n",
              "      <td>Fruits</td>\n",
              "      <td>Online</td>\n",
              "      <td>H</td>\n",
              "      <td>9/8/2014</td>\n",
              "      <td>142278373</td>\n",
              "      <td>10/4/2014</td>\n",
              "      <td>2187</td>\n",
              "      <td>9.33</td>\n",
              "      <td>6.92</td>\n",
              "      <td>20404.71</td>\n",
              "      <td>15134.04</td>\n",
              "    </tr>\n",
              "  </tbody>\n",
              "</table>\n",
              "</div>"
            ],
            "text/plain": [
              "    Total Profit      Country  Item Type  ... Unit Cost Total Revenue  Total Cost\n",
              "0     1678540.98       Samoa   Cosmetics  ...    263.33    4220728.80  2542187.82\n",
              "10       5270.67  New Zealand     Fruits  ...      6.92      20404.71    15134.04\n",
              "\n",
              "[2 rows x 13 columns]"
            ]
          },
          "metadata": {},
          "execution_count": 98
        }
      ]
    },
    {
      "cell_type": "code",
      "metadata": {
        "colab": {
          "base_uri": "https://localhost:8080/"
        },
        "id": "p4PSN9TVHcbW",
        "outputId": "9695e371-e0d6-4fe8-b2f3-229b60b252a2"
      },
      "source": [
        "#Attempt 2 to isolate the top and bottom values\n",
        "max = dff.head(1)[\"Total Profit\"]\n",
        "min = dff.tail(1)[\"Total Profit\"]\n",
        "\n",
        "print(\"your max value is\" + str(max))\n",
        "print(min)"
      ],
      "execution_count": 115,
      "outputs": [
        {
          "output_type": "stream",
          "name": "stdout",
          "text": [
            "your max value is0    1678540.98\n",
            "Name: Total Profit, dtype: float64\n",
            "10    5270.67\n",
            "Name: Total Profit, dtype: float64\n"
          ]
        }
      ]
    },
    {
      "cell_type": "code",
      "metadata": {
        "colab": {
          "base_uri": "https://localhost:8080/"
        },
        "id": "vp5RXQYJIZ_X",
        "outputId": "d415f361-6285-4806-999e-9470a2338d29"
      },
      "source": [
        "#Using iloc to find the data for max and min profit\n",
        "#Integer based method is easier to locate the data \n",
        "\n",
        "max_prof = dff.iloc[0,0]\n",
        "max_country = dff.iloc[0,1]\n",
        "min_prof = dff.iloc[10,0]\n",
        "min_country = dff.iloc[10,1]\n",
        "mean_prof = round(dff[\"Total Profit\"].mean(),2)\n",
        "\n",
        "print(max_country + str(max_prof))\n",
        "print(min_country + str(min_prof))\n",
        "print(\"The average for the total profit for the region is \" + str(mean_prof))"
      ],
      "execution_count": 113,
      "outputs": [
        {
          "output_type": "stream",
          "name": "stdout",
          "text": [
            "Samoa 1678540.98\n",
            "New Zealand5270.67\n",
            "The average for the total profit for the region is 429287.28\n"
          ]
        }
      ]
    },
    {
      "cell_type": "code",
      "metadata": {
        "colab": {
          "base_uri": "https://localhost:8080/",
          "height": 35
        },
        "id": "IhEauxQaC8q-",
        "outputId": "0c9c8792-1939-4e1f-d869-12ed079d3f9e"
      },
      "source": [
        "cols[12]"
      ],
      "execution_count": 81,
      "outputs": [
        {
          "output_type": "execute_result",
          "data": {
            "application/vnd.google.colaboratory.intrinsic+json": {
              "type": "string"
            },
            "text/plain": [
              "'Total Profit'"
            ]
          },
          "metadata": {},
          "execution_count": 81
        }
      ]
    },
    {
      "cell_type": "code",
      "metadata": {
        "id": "lAjGFfasCctu"
      },
      "source": [
        "cols = list(oce_df.columns.values)\n",
        "organised_data = organised_data[cols[0:11]+[cols[12]]]\n",
        "organised_data"
      ],
      "execution_count": null,
      "outputs": []
    },
    {
      "cell_type": "code",
      "metadata": {
        "colab": {
          "base_uri": "https://localhost:8080/"
        },
        "id": "mDmvLapa-eqs",
        "outputId": "b60476dc-974a-447d-f398-c5f7e475ab1f"
      },
      "source": [
        "oce_mean_profit = oce_df[\"Total Profit\"].mean()\n",
        "\n",
        "mean_profit = round(oce_mean_profit, 2)\n",
        "\n",
        "mean_profit"
      ],
      "execution_count": 68,
      "outputs": [
        {
          "output_type": "execute_result",
          "data": {
            "text/plain": [
              "429287.28"
            ]
          },
          "metadata": {},
          "execution_count": 68
        }
      ]
    },
    {
      "cell_type": "code",
      "metadata": {
        "colab": {
          "base_uri": "https://localhost:8080/"
        },
        "id": "an_YBPR__ZMp",
        "outputId": "afe6a54a-aa75-4247-a130-1213abd3a51a"
      },
      "source": [
        "print(organised_data)\n",
        "\n",
        "print(mean_profit)"
      ],
      "execution_count": 74,
      "outputs": [
        {
          "output_type": "stream",
          "name": "stdout",
          "text": [
            "                                     Country  ...  Total Cost\n",
            "Total Profit                                  ...            \n",
            "1678540.98                            Samoa   ...  2542187.82\n",
            "951410.50                             Tuvalu  ...  1582243.50\n",
            "727423.20                               Fiji  ...   354995.20\n",
            "369155.00                          Australia  ...  1534983.04\n",
            "337937.60                         East Timor  ...  2154588.52\n",
            "285087.64                    Solomon Islands  ...   474115.08\n",
            "147031.74                          Australia  ...   298476.31\n",
            "146875.14     Federated States of Micronesia  ...   298158.41\n",
            "60418.38                           Australia  ...    79869.02\n",
            "13009.18                            Kiribati  ...    37354.16\n",
            "5270.67                          New Zealand  ...    15134.04\n",
            "\n",
            "[11 rows x 12 columns]\n",
            "429287.28\n"
          ]
        }
      ]
    },
    {
      "cell_type": "code",
      "metadata": {
        "id": "ktGMABMA_GCc"
      },
      "source": [
        ""
      ],
      "execution_count": null,
      "outputs": []
    },
    {
      "cell_type": "code",
      "metadata": {
        "colab": {
          "base_uri": "https://localhost:8080/"
        },
        "id": "hdyiNKgnnIEX",
        "outputId": "40f1443b-7f6e-4833-e649-53c771b95367"
      },
      "source": [
        "pdmax = oce_df[oce_df[\"Total Profit\"]==oce_df[\"Total Profit\"].min()]\n",
        "pdmin = oce_df[oce_df[\"Total Profit\"]==oce_df[\"Total Profit\"].max()]\n",
        "\n",
        "print(pdmax)\n",
        "print(pdmin)"
      ],
      "execution_count": 117,
      "outputs": [
        {
          "output_type": "stream",
          "name": "stdout",
          "text": [
            "       Country Item Type Sales Channel  ... Total Revenue Total Cost  Total Profit\n",
            "3  New Zealand    Fruits        Online  ...      20404.71   15134.04       5270.67\n",
            "\n",
            "[1 rows x 13 columns]\n",
            "  Country  Item Type Sales Channel  ... Total Revenue  Total Cost  Total Profit\n",
            "9  Samoa   Cosmetics        Online  ...     4220728.8  2542187.82    1678540.98\n",
            "\n",
            "[1 rows x 13 columns]\n"
          ]
        }
      ]
    },
    {
      "cell_type": "code",
      "metadata": {
        "id": "1_brNgY6c35K"
      },
      "source": [
        "max_country = oce_df.loc[oce_df['Total Profit'].idxmax()]\n",
        "min_country = oce_df.loc[oce_df['Total Profit'].idxmin()]\n",
        "\n",
        "print(max_country)\n",
        "print(min_country)"
      ],
      "execution_count": null,
      "outputs": []
    },
    {
      "cell_type": "code",
      "metadata": {
        "id": "upWahfvUs63L"
      },
      "source": [
        "max_country"
      ],
      "execution_count": null,
      "outputs": []
    },
    {
      "cell_type": "code",
      "metadata": {
        "id": "UmBx1FabuLBF"
      },
      "source": [
        ""
      ],
      "execution_count": null,
      "outputs": []
    }
  ]
}